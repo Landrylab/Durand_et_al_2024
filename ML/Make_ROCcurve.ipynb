{
 "cells": [
  {
   "cell_type": "markdown",
   "id": "f7d992ad-88df-4138-a349-b80f33cd4b79",
   "metadata": {},
   "source": [
    "# Title: Make_ROCcurve\n",
    "### Author: Mathieu Giguere\n",
    "\n",
    "Brief: Uses the output of a machine learning model to make a ROC curve.\n",
    "\n",
    "Preconditions: Needs '_results.csv' and '_ROCproba.csv'"
   ]
  },
  {
   "cell_type": "markdown",
   "id": "88642ff6-7773-4dd1-a457-6e727740b8e5",
   "metadata": {},
   "source": [
    "### Importing modules and packages"
   ]
  },
  {
   "cell_type": "code",
   "execution_count": 1,
   "id": "57a6c264-8be4-4e76-90d9-9877151498a1",
   "metadata": {
    "tags": []
   },
   "outputs": [],
   "source": [
    "import pandas as pd\n",
    "import numpy as np\n",
    "np.bool = np.bool_\n",
    "np.int = np.int_\n",
    "import matplotlib.pyplot as plt\n",
    "%matplotlib inline\n",
    "plt.rcParams['svg.fonttype'] = 'none'\n",
    "import seaborn as sns\n",
    "from sklearn.metrics import accuracy_score, confusion_matrix, roc_auc_score, matthews_corrcoef, roc_curve\n",
    "from sklearn.ensemble import RandomForestClassifier\n",
    "from sklearn.model_selection import GridSearchCV\n",
    "import glob\n",
    "import os"
   ]
  },
  {
   "cell_type": "markdown",
   "id": "40e4e983-c505-44fc-9d20-55bc5634340e",
   "metadata": {},
   "source": [
    "### Specify parameters"
   ]
  },
  {
   "cell_type": "code",
   "execution_count": 2,
   "id": "5752ed46-072d-43fe-8a7d-6e69ab7056da",
   "metadata": {
    "tags": []
   },
   "outputs": [],
   "source": [
    "drug = 'micafungin' # choices are : 'caspofungin', 'anidulafungin', 'micafungin'\n",
    "strain = 'BY4741' # currently only supports 'BY4741'\n",
    "locus = 'FKS1-HS1' # currently only supports 'FKS1-HS1' and 'FKS1-HS2'\n",
    "assay = 'orthologs' # choices are : 'orthologs', 'mardy'"
   ]
  },
  {
   "cell_type": "markdown",
   "id": "c95d87e3-18fc-44c2-b340-4d73960a77cc",
   "metadata": {},
   "source": [
    "### Specify paths"
   ]
  },
  {
   "cell_type": "code",
   "execution_count": 3,
   "id": "25628946-62b2-462d-b7f6-e6320a015e82",
   "metadata": {
    "tags": []
   },
   "outputs": [],
   "source": [
    "outpath = f'{strain}_{locus}/'\n",
    "ML_data_path = f'{outpath}/{drug}_ML_{assay}_results.csv'\n",
    "ML_ROC_path = f'{outpath}/{drug}_ML_{assay}_ROCproba.csv'"
   ]
  },
  {
   "cell_type": "markdown",
   "id": "155e74e0-660e-42ee-a94a-539f79cb8535",
   "metadata": {},
   "source": [
    "### Read the ML output file."
   ]
  },
  {
   "cell_type": "code",
   "execution_count": 4,
   "id": "5f8c0e5f-efc1-46d9-a0ad-affa4eb25520",
   "metadata": {
    "tags": []
   },
   "outputs": [],
   "source": [
    "df = pd.read_csv(ML_data_path)\n",
    "\n",
    "y_test = df['y_test'].tolist()\n",
    "\n",
    "y_pred = df['y_pred'].tolist()\n",
    "\n",
    "proba_df = pd.read_csv(ML_ROC_path)\n",
    "\n",
    "proba = proba_df['0'].tolist()"
   ]
  },
  {
   "cell_type": "markdown",
   "id": "2d135d9e-cbf3-4aff-a1b8-98199057ca85",
   "metadata": {},
   "source": [
    "### Plot ROC curve"
   ]
  },
  {
   "cell_type": "code",
   "execution_count": 5,
   "id": "df4764ba-4859-4a4d-9d55-2498592e1b8c",
   "metadata": {
    "tags": []
   },
   "outputs": [
    {
     "name": "stdout",
     "output_type": "stream",
     "text": [
      "AUC : 0.90625\n"
     ]
    },
    {
     "data": {
      "image/png": "[encoded data removed]",
      "text/plain": [
       "<Figure size 150x150 with 1 Axes>"
      ]
     },
     "metadata": {},
     "output_type": "display_data"
    }
   ],
   "source": [
    "fpr, tpr, thresh = roc_curve(y_test, proba, pos_label='sensitive')\n",
    "auc_score = roc_auc_score(y_test, proba)\n",
    "print(f\"AUC : {auc_score}\")\n",
    "\n",
    "random_probs = [0 for i in range(len(y_test))]\n",
    "p_fpr, p_tpr, p_thresh = roc_curve(y_test, random_probs, pos_label='sensitive')\n",
    "\n",
    "# Make ROC curve plot.\n",
    "rc_dict = {'font.family':'Arial',\n",
    "           'font.size':8,\n",
    "           'axes.linewidth': 1, 'grid.linewidth': 1,\n",
    "           'axes.labelsize':8,'axes.titlesize':8,\n",
    "           'xtick.labelsize':6, 'ytick.labelsize':6,\n",
    "           'xtick.major.pad':1, 'ytick.major.pad':1,\n",
    "          }\n",
    "\n",
    "plt.rcParams.update(rc_dict)\n",
    "\n",
    "plt.figure(figsize=(1.5, 1.5))\n",
    "plt.plot(fpr, tpr, color='forestgreen')\n",
    "plt.plot(p_fpr, p_tpr, linestyle='--', color='orange')\n",
    "plt.title(f'{drug.title()}\\nAUC: {auc_score:.2f}')\n",
    "plt.locator_params(axis='both', nbins=3) \n",
    "plt.xlabel('False positive rate')\n",
    "plt.ylabel('True positive rate')\n",
    "plt.tight_layout()\n",
    "\n",
    "plt.savefig(f'{outpath}/{assay}_{drug}_ROCcurve.svg', format='svg', dpi=300)"
   ]
  },
  {
   "cell_type": "code",
   "execution_count": null,
   "id": "26579a86-79e1-4891-b36e-d4172be75a24",
   "metadata": {},
   "outputs": [],
   "source": []
  }
 ],
 "metadata": {
  "kernelspec": {
   "display_name": "dms-env",
   "language": "python",
   "name": "dms-env"
  },
  "language_info": {
   "codemirror_mode": {
    "name": "ipython",
    "version": 3
   },
   "file_extension": ".py",
   "mimetype": "text/x-python",
   "name": "python",
   "nbconvert_exporter": "python",
   "pygments_lexer": "ipython3",
   "version": "3.11.6"
  }
 },
 "nbformat": 4,
 "nbformat_minor": 5
}
