{
 "cells": [
  {
   "cell_type": "markdown",
   "id": "854387b1-f068-462d-ab59-59c14977822c",
   "metadata": {
    "tags": []
   },
   "source": [
    "# Title: Make_cmatrix\n",
    "### Author: Mathieu Giguere\n",
    "\n",
    "Brief: Uses the output of a machine learning model to make a confusion matrix.\n",
    "\n",
    "Preconditions: Needs '_results.csv'"
   ]
  },
  {
   "cell_type": "markdown",
   "id": "febca257-43b6-4b0e-8448-e05c9fe083ae",
   "metadata": {},
   "source": [
    "### Importing modules and packages"
   ]
  },
  {
   "cell_type": "code",
   "execution_count": 1,
   "id": "a9fa185c-deec-425d-a7e5-b55b8d8fb26a",
   "metadata": {
    "tags": []
   },
   "outputs": [],
   "source": [
    "import pandas as pd\n",
    "import numpy as np\n",
    "np.bool = np.bool_\n",
    "np.int = np.int_\n",
    "import matplotlib.pyplot as plt\n",
    "%matplotlib inline\n",
    "plt.rcParams['svg.fonttype'] = 'none'\n",
    "import seaborn as sns\n",
    "from sklearn.metrics import balanced_accuracy_score, confusion_matrix, roc_auc_score, matthews_corrcoef, roc_curve\n",
    "from sklearn.ensemble import RandomForestClassifier\n",
    "from sklearn.model_selection import GridSearchCV\n",
    "import glob\n",
    "import os"
   ]
  },
  {
   "cell_type": "markdown",
   "id": "7874b25a-33ee-4448-82bf-87a176b99c08",
   "metadata": {},
   "source": [
    "### Specify parameters"
   ]
  },
  {
   "cell_type": "code",
   "execution_count": 2,
   "id": "9cdb2721-a596-43fc-9eec-d2a4461f7990",
   "metadata": {
    "tags": []
   },
   "outputs": [],
   "source": [
    "drug = 'micafungin' # choices are : 'caspofungin', 'anidulafungin', 'micafungin'\n",
    "strain = 'BY4741' # currently only supports 'BY4741'\n",
    "locus = 'FKS1-HS1' # currently only supports 'FKS1-HS1' and 'FKS1-HS2'\n",
    "assay = 'mardy' # choices are : 'orthologs', 'mardy'"
   ]
  },
  {
   "cell_type": "markdown",
   "id": "711525ac-66c2-44a2-838c-b5d230425c4e",
   "metadata": {},
   "source": [
    "### Specify paths"
   ]
  },
  {
   "cell_type": "code",
   "execution_count": 3,
   "id": "143ebfd6-3807-45f6-9ea3-f0e5af40bfce",
   "metadata": {
    "tags": []
   },
   "outputs": [],
   "source": [
    "outpath = f'{strain}_{locus}/'\n",
    "ML_data_path = f'{outpath}/{drug}_ML_{assay}_results.csv'"
   ]
  },
  {
   "cell_type": "markdown",
   "id": "d349d4dc-a3fc-4fd6-a564-72755d6c1a60",
   "metadata": {},
   "source": [
    "### Read the ML output file."
   ]
  },
  {
   "cell_type": "code",
   "execution_count": 4,
   "id": "8090719d-2744-49e4-9ad9-0d9b04a012de",
   "metadata": {
    "tags": []
   },
   "outputs": [],
   "source": [
    "df = pd.read_csv(ML_data_path)\n",
    "\n",
    "y_test = df['y_test'].tolist()\n",
    "\n",
    "y_pred = df['y_pred'].tolist()"
   ]
  },
  {
   "cell_type": "code",
   "execution_count": 5,
   "id": "cce56833-4067-4a9f-902e-3990c854afb8",
   "metadata": {
    "tags": []
   },
   "outputs": [
    {
     "name": "stdout",
     "output_type": "stream",
     "text": [
      "Accuracy: 0.624113475177305\n",
      "Mat: 0.2756589232099856\n"
     ]
    }
   ],
   "source": [
    "accuracy = balanced_accuracy_score(y_test, y_pred)\n",
    "print(\"Accuracy:\", accuracy)\n",
    "\n",
    "# Matthews correlation coefficient\n",
    "mat = matthews_corrcoef(y_test, y_pred)\n",
    "print(\"Mat:\", mat)"
   ]
  },
  {
   "cell_type": "markdown",
   "id": "8d3aae5a-0ece-44ad-a0ee-940551b87f6b",
   "metadata": {},
   "source": [
    "### Create the confusion matrix"
   ]
  },
  {
   "cell_type": "code",
   "execution_count": 6,
   "id": "091eb93a-e68f-4578-a117-3f8e87ee9575",
   "metadata": {
    "tags": []
   },
   "outputs": [
    {
     "data": {
      "text/plain": [
       "array([[43,  4],\n",
       "       [ 6,  3]], dtype=int64)"
      ]
     },
     "execution_count": 6,
     "metadata": {},
     "output_type": "execute_result"
    }
   ],
   "source": [
    "cmatrix = confusion_matrix(y_test, y_pred)\n",
    "\n",
    "cmatrix"
   ]
  },
  {
   "cell_type": "markdown",
   "id": "865644c5-9cde-44f9-80dd-b7ac54e09f93",
   "metadata": {},
   "source": [
    "### Plot Confusion Matrix"
   ]
  },
  {
   "cell_type": "code",
   "execution_count": 7,
   "id": "19529130-822c-40fe-8ff3-a1409aebadf0",
   "metadata": {
    "tags": []
   },
   "outputs": [
    {
     "name": "stderr",
     "output_type": "stream",
     "text": [
      "C:\\Users\\duran\\AppData\\Local\\Temp\\ipykernel_21032\\1082830957.py:22: UserWarning: Tight layout not applied. The bottom and top margins cannot be made large enough to accommodate all axes decorations.\n",
      "  plt.tight_layout()\n"
     ]
    },
    {
     "data": {
      "image/png": "[encoded data removed]",
      "text/plain": [
       "<Figure size 70x70 with 1 Axes>"
      ]
     },
     "metadata": {},
     "output_type": "display_data"
    }
   ],
   "source": [
    "# Display the confusion matrix using seaborn heatmap\n",
    "sns.set(rc = {'figure.figsize':(.7,.7),\n",
    "              'font.family':'Arial',\n",
    "              'font.size':8,\n",
    "              'legend.title_fontsize':8, 'legend.fontsize':8,\n",
    "              'axes.labelsize':8,'axes.titlesize':8,\n",
    "              'xtick.labelsize':8, 'ytick.labelsize':8,\n",
    "              'xtick.major.pad':1, 'ytick.major.pad':1,\n",
    "             },\n",
    "       style='whitegrid')\n",
    "\n",
    "sns.heatmap(cmatrix, annot=True, fmt='d',\n",
    "            cmap='Blues', cbar=False,\n",
    "            xticklabels=['R', 'S'],\n",
    "            yticklabels=['R', 'S'],\n",
    "            annot_kws={\"size\": 8})\n",
    "plt.xticks(rotation=0)\n",
    "plt.yticks(rotation=0)\n",
    "plt.xlabel('Prediction')\n",
    "plt.ylabel('Phenotype')\n",
    "plt.title(f'Acc.: {accuracy:.2f} \\n MCC: {mat:.2f}')\n",
    "plt.tight_layout()\n",
    "\n",
    "plt.savefig(f'{outpath}/{assay}_{drug}_Confmatrix.svg', format='svg', dpi=300)"
   ]
  },
  {
   "cell_type": "code",
   "execution_count": null,
   "id": "68391dd3-7203-486c-8efe-7ab13150e93b",
   "metadata": {},
   "outputs": [],
   "source": []
  }
 ],
 "metadata": {
  "kernelspec": {
   "display_name": "dms-env",
   "language": "python",
   "name": "dms-env"
  },
  "language_info": {
   "codemirror_mode": {
    "name": "ipython",
    "version": 3
   },
   "file_extension": ".py",
   "mimetype": "text/x-python",
   "name": "python",
   "nbconvert_exporter": "python",
   "pygments_lexer": "ipython3",
   "version": "3.11.6"
  }
 },
 "nbformat": 4,
 "nbformat_minor": 5
}
