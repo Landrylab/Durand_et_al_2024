{
 "cells": [
  {
   "cell_type": "markdown",
   "id": "90de54a2-a656-4392-8303-112bd6fa9c99",
   "metadata": {},
   "source": [
    "# Scripts used to generate oPools"
   ]
  },
  {
   "cell_type": "markdown",
   "id": "6c2b6653-82cb-4ca1-9886-16fda08ff8a4",
   "metadata": {},
   "source": [
    "## NNK"
   ]
  },
  {
   "cell_type": "markdown",
   "id": "47644216-d8df-4fc1-b4f3-a4f25f5d5f86",
   "metadata": {},
   "source": [
    "Author: Romain Durand"
   ]
  },
  {
   "cell_type": "code",
   "execution_count": 1,
   "id": "10665e03-b145-4b35-bbbf-daba7969d913",
   "metadata": {},
   "outputs": [],
   "source": [
    "import pandas as pd"
   ]
  },
  {
   "cell_type": "code",
   "execution_count": 2,
   "id": "487e06d1-7389-48a8-b666-cadefd83e73a",
   "metadata": {},
   "outputs": [
    {
     "data": {
      "text/html": [
       "<div>\n",
       "<style scoped>\n",
       "    .dataframe tbody tr th:only-of-type {\n",
       "        vertical-align: middle;\n",
       "    }\n",
       "\n",
       "    .dataframe tbody tr th {\n",
       "        vertical-align: top;\n",
       "    }\n",
       "\n",
       "    .dataframe thead th {\n",
       "        text-align: right;\n",
       "    }\n",
       "</style>\n",
       "<table border=\"1\" class=\"dataframe\">\n",
       "  <thead>\n",
       "    <tr style=\"text-align: right;\">\n",
       "      <th></th>\n",
       "      <th>codon</th>\n",
       "      <th>aminoacid</th>\n",
       "      <th>freq</th>\n",
       "      <th>number</th>\n",
       "    </tr>\n",
       "  </thead>\n",
       "  <tbody>\n",
       "    <tr>\n",
       "      <th>0</th>\n",
       "      <td>TTT</td>\n",
       "      <td>F</td>\n",
       "      <td>26.26</td>\n",
       "      <td>76999</td>\n",
       "    </tr>\n",
       "    <tr>\n",
       "      <th>1</th>\n",
       "      <td>TTC</td>\n",
       "      <td>F</td>\n",
       "      <td>17.89</td>\n",
       "      <td>52459</td>\n",
       "    </tr>\n",
       "    <tr>\n",
       "      <th>2</th>\n",
       "      <td>TTA</td>\n",
       "      <td>L</td>\n",
       "      <td>26.31</td>\n",
       "      <td>77131</td>\n",
       "    </tr>\n",
       "    <tr>\n",
       "      <th>3</th>\n",
       "      <td>TTG</td>\n",
       "      <td>L</td>\n",
       "      <td>26.48</td>\n",
       "      <td>77632</td>\n",
       "    </tr>\n",
       "    <tr>\n",
       "      <th>4</th>\n",
       "      <td>CTT</td>\n",
       "      <td>L</td>\n",
       "      <td>12.34</td>\n",
       "      <td>36164</td>\n",
       "    </tr>\n",
       "    <tr>\n",
       "      <th>...</th>\n",
       "      <td>...</td>\n",
       "      <td>...</td>\n",
       "      <td>...</td>\n",
       "      <td>...</td>\n",
       "    </tr>\n",
       "    <tr>\n",
       "      <th>59</th>\n",
       "      <td>AGG</td>\n",
       "      <td>R</td>\n",
       "      <td>9.47</td>\n",
       "      <td>27756</td>\n",
       "    </tr>\n",
       "    <tr>\n",
       "      <th>60</th>\n",
       "      <td>GGT</td>\n",
       "      <td>G</td>\n",
       "      <td>22.54</td>\n",
       "      <td>66068</td>\n",
       "    </tr>\n",
       "    <tr>\n",
       "      <th>61</th>\n",
       "      <td>GGC</td>\n",
       "      <td>G</td>\n",
       "      <td>9.79</td>\n",
       "      <td>28704</td>\n",
       "    </tr>\n",
       "    <tr>\n",
       "      <th>62</th>\n",
       "      <td>GGA</td>\n",
       "      <td>G</td>\n",
       "      <td>11.19</td>\n",
       "      <td>32808</td>\n",
       "    </tr>\n",
       "    <tr>\n",
       "      <th>63</th>\n",
       "      <td>GGG</td>\n",
       "      <td>G</td>\n",
       "      <td>6.07</td>\n",
       "      <td>17791</td>\n",
       "    </tr>\n",
       "  </tbody>\n",
       "</table>\n",
       "<p>64 rows × 4 columns</p>\n",
       "</div>"
      ],
      "text/plain": [
       "   codon aminoacid   freq  number\n",
       "0    TTT         F  26.26   76999\n",
       "1    TTC         F  17.89   52459\n",
       "2    TTA         L  26.31   77131\n",
       "3    TTG         L  26.48   77632\n",
       "4    CTT         L  12.34   36164\n",
       "..   ...       ...    ...     ...\n",
       "59   AGG         R   9.47   27756\n",
       "60   GGT         G  22.54   66068\n",
       "61   GGC         G   9.79   28704\n",
       "62   GGA         G  11.19   32808\n",
       "63   GGG         G   6.07   17791\n",
       "\n",
       "[64 rows x 4 columns]"
      ]
     },
     "execution_count": 2,
     "metadata": {},
     "output_type": "execute_result"
    }
   ],
   "source": [
    "codon_table = pd.read_csv('data/general_use/ScerevisiaeTAXID559292_Cocoputs_codon_table.csv', header=0)\n",
    "FKS1_HS1_left_300bp = \"TTTGGTATTAATTTGGGTCCTATTATTTTTGTTTTTGCCTACGACAAAGACACAGTCTACTCTACTGCTGCACACGTTGTTGCTGCTGTTATGTTCTTTGTTGCGGTTGCTACCATCATATTCTTCTCCATTATGCCATTGGGGGGGTTGTTTACGTCATATATGAAAAAATCTACAAGGCGTTATGTTGCATCTCAAACATTCACTGCTGCATTTGCCCCTCTACATGGGTTAGATAGGTGGATGTCCTATTTAGTTTGGGTTACTGTTTTTGCCGCCAAATATTCAGAATCGTACTAC\"\n",
    "FKS1_HS1 = \"TTTTTAGTTTTATCTTTGAGAGATCCA\"\n",
    "FKS1_HS1_right_300bp = \"ATTAGAATTTTGTCCACCACTGCAATGAGGTGTACAGGTGAATACTGGTGGGGTGCGGTACTTTGTAAAGTGCAACCCAAGATTGTCTTAGGTTTGGTTATCGCTACCGACTTCATTCTTTTCTTCTTGGATACCTACTTATGGTACATTATTGTGAATACCATTTTCTCTGTTGGGAAATCTTTCTATTTAGGTATTTCTATCTTAACACCATGGAGAAATATCTTCACAAGATTGCCAAAAAGAATATACTCCAAGATTTTGGCTACTACTGATATGGAAATTAAATACAAACCAAAG\"\n",
    "FKS1_HS2_left_300bp = \"GGTACAATTCTAAATTTCACTACTAAGATTGGTGCTGGTATGGGTGAACAAATGTTATCTCGTGAATATTATTATCTGGGTACCCAATTACCAGTGGACCGTTTCCTAACATTCTATTATGCCCATCCTGGTTTCCATTTGAACAACTTGTTCATTCAATTATCTTTGCAAATGTTTATGTTGACTTTGGTGAATTTATCTTCCTTGGCACATGAATCTATTATGTGTATTTACGATAGGAACAAACCAAAAACAGACGCTTTGTTTCCAATTGGGTGTTACAACTTCCAACCTGCGGTT\"\n",
    "FKS1_HS2 = \"GATTGGGTGAGACGTTATACATTG\"\n",
    "FKS1_HS2_right_300bp = \"TCTATTTTCATTGTTTTCTGGATTGCCTTCGTTCCTATTGTTGTTCAAGAACTAATTGAACGTGGTCTATGGAAAGCCACCCAAAGATTTTTCTGCCACCTATTATCATTATCCCCTATGTTCGAAGTGTTTGCGGGCCAAATCTACTCTTCTGCGTTATTAAGTGATTTAGCAATTGGCGGTGCTCGTTATATATCCACCGGTCGTGGTTTTGCAACTTCCCGTATACCATTTTCAATTTTGTATTCAAGATTTGCAGGGTCTGCTATCTACATGGGTGCAAGATCAATGTTAATGTTG\"\n",
    "FKS2_HS1_left_300bp = \"GGTATTAATTTGGGGCCTGTGATATTTGTTTTCGCTTATGATAAGGATACAGTATATTCTACTGCCGCTCATGTCGTTGGAGCAGTTATGTTTTTTGTTGCTGTGGCAACACTTGTTTTCTTTTCCGTAATGCCATTGGGTGGATTATTTACATCGTATATGAAAAAGTCCACAAGAAGTTATGTTGCCTCACAGACCTTCACCGCATCTTTTGCTCCATTGCATGGTTTAGACAGGTGGATGTCTTATTTGGTTTGGGTAACCGTTTTTGCTGCTAAATATGCAGAGTCATATTTTTTT\"\n",
    "FKS2_HS1 = \"CTAATACTGTCACTAAGAGATCCA\"\n",
    "FKS2_HS1_right_300bp = \"ATTAGGATTTTATCTACTACATCAATGAGATGTACTGGTGAATACTGGTGGGGTAATAAGATTTGTAAGGTCCAGCCAAAGATTGTTTTAGGTTTAATGATTGCGACTGACTTCATTTTGTTCTTTTTGGATACCTACTTGTGGTATATCGTTGTTAACACTGTTTTCTCGGTCGGCAAATCGTTCTATTTGGGTATTTCTATCTTAACTCCATGGAGAAATATTTTCACTAGATTGCCAAAAAGAATTTATTCTAAGATCTTGGCTACTACTGATATGGAAATAAAATATAAACCGAAA\"\n",
    "FKS2_HS2_left_300bp = \"GGTACAATTTTGAATTTCACTACTAAGATCGGTGCTGGTATGGGTGAACAAATGTTATCTCGTGAATACTATTATTTGGGTACGCAATTACCTATTGACCGTTTTTTAACATTTTATTATGCGCATCCAGGGTTTCACTTGAATAACTTATTTATTCAATTGTCTCTGCAGATGTTCATGTTAACTTTAGTGAACTTGCATGCTTTGGCTCATGAATCCATTCTGTGTATTTACGATAGGGATAAGCCAATTACTGATGTTTTGTATCCAATTGGTTGTTACAACTTTCATCCTGCGATT\"\n",
    "FKS2_HS2 = \"GATTGGGTGAGACGTTATACACTC\"\n",
    "FKS2_HS2_right_300bp = \"TCTATTTTCATCGTCTTTTGGATTGCTTTTGTCCCTATTGTCGTTCAGGAATTAATCGAGCGTGGTCTGTGGAAGGCGACACAAAGATTTTTCCGTCACATTTTATCTCTATCTCCAATGTTTGAAGTCTTTGCTGGCCAAATCTATTCTTCAGCACTGTTAAGTGATATCGCTGTGGGTGGTGCTCGTTATATTTCAACAGGTCGTGGCTTTGCTACATCTCGTATACCTTTCTCTATTCTTTATTCAAGATTTGCGGGTTCAGCCATTTATATGGGATCAAGATCAATGTTGATGTTA\"\n",
    "\n",
    "homology = 40\n",
    "codon_table"
   ]
  },
  {
   "cell_type": "code",
   "execution_count": 133,
   "id": "b0ad2d79-526e-4144-994f-433575c9883d",
   "metadata": {},
   "outputs": [
    {
     "data": {
      "text/plain": [
       "40"
      ]
     },
     "execution_count": 133,
     "metadata": {},
     "output_type": "execute_result"
    }
   ],
   "source": [
    "len(FKS1_HS1_left_300bp[len(FKS1_HS1_left_300bp)-homology:])\n",
    "len(FKS1_HS1_right_300bp[:40])"
   ]
  },
  {
   "cell_type": "code",
   "execution_count": 124,
   "id": "aef7784c-3bb0-46ef-a211-657ef5cb7de8",
   "metadata": {
    "tags": []
   },
   "outputs": [
    {
     "data": {
      "text/plain": [
       "['TTT', 'TTA', 'GTT', 'TTA', 'TCT', 'TTG', 'AGA', 'GAT', 'CCA']"
      ]
     },
     "execution_count": 124,
     "metadata": {},
     "output_type": "execute_result"
    }
   ],
   "source": [
    "data = [FKS1_HS1[x:x+3] for x in range(0,len(FKS1_HS1),3)]\n",
    "data"
   ]
  },
  {
   "cell_type": "code",
   "execution_count": 134,
   "id": "631aaf35-463c-4917-8418-b4ad99a8ea3f",
   "metadata": {},
   "outputs": [
    {
     "name": "stdout",
     "output_type": "stream",
     "text": [
      "GGTTACTGTTTTTGCCGCCAAATATTCAGAATCGTACTACNNKTTAGTTTTATCTTTGAGAGATCCAATTAGAATTTTGTCCACCACTGCAATGAGGTGTACAGGTG\n",
      "GGTTACTGTTTTTGCCGCCAAATATTCAGAATCGTACTACTTTNNKGTTTTATCTTTGAGAGATCCAATTAGAATTTTGTCCACCACTGCAATGAGGTGTACAGGTG\n",
      "GGTTACTGTTTTTGCCGCCAAATATTCAGAATCGTACTACTTTTTANNKTTATCTTTGAGAGATCCAATTAGAATTTTGTCCACCACTGCAATGAGGTGTACAGGTG\n",
      "GGTTACTGTTTTTGCCGCCAAATATTCAGAATCGTACTACTTTTTAGTTNNKTCTTTGAGAGATCCAATTAGAATTTTGTCCACCACTGCAATGAGGTGTACAGGTG\n",
      "GGTTACTGTTTTTGCCGCCAAATATTCAGAATCGTACTACTTTTTAGTTTTANNKTTGAGAGATCCAATTAGAATTTTGTCCACCACTGCAATGAGGTGTACAGGTG\n",
      "GGTTACTGTTTTTGCCGCCAAATATTCAGAATCGTACTACTTTTTAGTTTTATCTNNKAGAGATCCAATTAGAATTTTGTCCACCACTGCAATGAGGTGTACAGGTG\n",
      "GGTTACTGTTTTTGCCGCCAAATATTCAGAATCGTACTACTTTTTAGTTTTATCTTTGNNKGATCCAATTAGAATTTTGTCCACCACTGCAATGAGGTGTACAGGTG\n",
      "GGTTACTGTTTTTGCCGCCAAATATTCAGAATCGTACTACTTTTTAGTTTTATCTTTGAGANNKCCAATTAGAATTTTGTCCACCACTGCAATGAGGTGTACAGGTG\n",
      "GGTTACTGTTTTTGCCGCCAAATATTCAGAATCGTACTACTTTTTAGTTTTATCTTTGAGAGATNNKATTAGAATTTTGTCCACCACTGCAATGAGGTGTACAGGTG\n"
     ]
    }
   ],
   "source": [
    "for x in range(0,len(data)):\n",
    "    print(FKS1_HS1_left_300bp[len(FKS1_HS1_left_300bp)-homology:]+''.join(data[:x])+'NNK'+''.join(data[x+1:])+FKS1_HS1_right_300bp[:homology])"
   ]
  },
  {
   "cell_type": "code",
   "execution_count": 4,
   "id": "8275d956-8cf3-45eb-80bf-c6e1e9ec264f",
   "metadata": {},
   "outputs": [
    {
     "name": "stdout",
     "output_type": "stream",
     "text": [
      "TTTGTTTCCAATTGGGTGTTACAACTTCCAACCTGCGGTTNNKTGGGTGAGACGTTATACATTGTCTATTTTCATTGTTTTCTGGATTGCCTTCGTTCCTATTG\n",
      "TTTGTTTCCAATTGGGTGTTACAACTTCCAACCTGCGGTTGATNNKGTGAGACGTTATACATTGTCTATTTTCATTGTTTTCTGGATTGCCTTCGTTCCTATTG\n",
      "TTTGTTTCCAATTGGGTGTTACAACTTCCAACCTGCGGTTGATTGGNNKAGACGTTATACATTGTCTATTTTCATTGTTTTCTGGATTGCCTTCGTTCCTATTG\n",
      "TTTGTTTCCAATTGGGTGTTACAACTTCCAACCTGCGGTTGATTGGGTGNNKCGTTATACATTGTCTATTTTCATTGTTTTCTGGATTGCCTTCGTTCCTATTG\n",
      "TTTGTTTCCAATTGGGTGTTACAACTTCCAACCTGCGGTTGATTGGGTGAGANNKTATACATTGTCTATTTTCATTGTTTTCTGGATTGCCTTCGTTCCTATTG\n",
      "TTTGTTTCCAATTGGGTGTTACAACTTCCAACCTGCGGTTGATTGGGTGAGACGTNNKACATTGTCTATTTTCATTGTTTTCTGGATTGCCTTCGTTCCTATTG\n",
      "TTTGTTTCCAATTGGGTGTTACAACTTCCAACCTGCGGTTGATTGGGTGAGACGTTATNNKTTGTCTATTTTCATTGTTTTCTGGATTGCCTTCGTTCCTATTG\n",
      "TTTGTTTCCAATTGGGTGTTACAACTTCCAACCTGCGGTTGATTGGGTGAGACGTTATACANNKTCTATTTTCATTGTTTTCTGGATTGCCTTCGTTCCTATTG\n"
     ]
    }
   ],
   "source": [
    "data = [FKS1_HS2[x:x+3] for x in range(0,len(FKS1_HS2),3)]\n",
    "for x in range(0,len(data)):\n",
    "    print(FKS1_HS2_left_300bp[len(FKS1_HS2_left_300bp)-homology:]+''.join(data[:x])+'NNK'+''.join(data[x+1:])+FKS1_HS2_right_300bp[:homology])"
   ]
  },
  {
   "cell_type": "code",
   "execution_count": 6,
   "id": "bffe3a69-c82f-4570-a1cd-af305d596809",
   "metadata": {},
   "outputs": [
    {
     "name": "stdout",
     "output_type": "stream",
     "text": [
      "AACCGTTTTTGCTGCTAAATATGCAGAGTCATATTTTTTTNNKATACTGTCACTAAGAGATCCAATTAGGATTTTATCTACTACATCAATGAGATGTACTGGTG\n",
      "AACCGTTTTTGCTGCTAAATATGCAGAGTCATATTTTTTTCTANNKCTGTCACTAAGAGATCCAATTAGGATTTTATCTACTACATCAATGAGATGTACTGGTG\n",
      "AACCGTTTTTGCTGCTAAATATGCAGAGTCATATTTTTTTCTAATANNKTCACTAAGAGATCCAATTAGGATTTTATCTACTACATCAATGAGATGTACTGGTG\n",
      "AACCGTTTTTGCTGCTAAATATGCAGAGTCATATTTTTTTCTAATACTGNNKCTAAGAGATCCAATTAGGATTTTATCTACTACATCAATGAGATGTACTGGTG\n",
      "AACCGTTTTTGCTGCTAAATATGCAGAGTCATATTTTTTTCTAATACTGTCANNKAGAGATCCAATTAGGATTTTATCTACTACATCAATGAGATGTACTGGTG\n",
      "AACCGTTTTTGCTGCTAAATATGCAGAGTCATATTTTTTTCTAATACTGTCACTANNKGATCCAATTAGGATTTTATCTACTACATCAATGAGATGTACTGGTG\n",
      "AACCGTTTTTGCTGCTAAATATGCAGAGTCATATTTTTTTCTAATACTGTCACTAAGANNKCCAATTAGGATTTTATCTACTACATCAATGAGATGTACTGGTG\n",
      "AACCGTTTTTGCTGCTAAATATGCAGAGTCATATTTTTTTCTAATACTGTCACTAAGAGATNNKATTAGGATTTTATCTACTACATCAATGAGATGTACTGGTG\n"
     ]
    }
   ],
   "source": [
    "data = [FKS2_HS1[x:x+3] for x in range(0,len(FKS2_HS1),3)]\n",
    "for x in range(0,len(data)):\n",
    "    print(FKS2_HS1_left_300bp[len(FKS2_HS1_left_300bp)-homology:]+''.join(data[:x])+'NNK'+''.join(data[x+1:])+FKS2_HS1_right_300bp[:homology])"
   ]
  },
  {
   "cell_type": "code",
   "execution_count": 5,
   "id": "aba873d4-2dce-47d2-abe8-43d93abe4375",
   "metadata": {},
   "outputs": [
    {
     "name": "stdout",
     "output_type": "stream",
     "text": [
      "TTTGTATCCAATTGGTTGTTACAACTTTCATCCTGCGATTNNKTGGGTGAGACGTTATACACTCTCTATTTTCATCGTCTTTTGGATTGCTTTTGTCCCTATTG\n",
      "TTTGTATCCAATTGGTTGTTACAACTTTCATCCTGCGATTGATNNKGTGAGACGTTATACACTCTCTATTTTCATCGTCTTTTGGATTGCTTTTGTCCCTATTG\n",
      "TTTGTATCCAATTGGTTGTTACAACTTTCATCCTGCGATTGATTGGNNKAGACGTTATACACTCTCTATTTTCATCGTCTTTTGGATTGCTTTTGTCCCTATTG\n",
      "TTTGTATCCAATTGGTTGTTACAACTTTCATCCTGCGATTGATTGGGTGNNKCGTTATACACTCTCTATTTTCATCGTCTTTTGGATTGCTTTTGTCCCTATTG\n",
      "TTTGTATCCAATTGGTTGTTACAACTTTCATCCTGCGATTGATTGGGTGAGANNKTATACACTCTCTATTTTCATCGTCTTTTGGATTGCTTTTGTCCCTATTG\n",
      "TTTGTATCCAATTGGTTGTTACAACTTTCATCCTGCGATTGATTGGGTGAGACGTNNKACACTCTCTATTTTCATCGTCTTTTGGATTGCTTTTGTCCCTATTG\n",
      "TTTGTATCCAATTGGTTGTTACAACTTTCATCCTGCGATTGATTGGGTGAGACGTTATNNKCTCTCTATTTTCATCGTCTTTTGGATTGCTTTTGTCCCTATTG\n",
      "TTTGTATCCAATTGGTTGTTACAACTTTCATCCTGCGATTGATTGGGTGAGACGTTATACANNKTCTATTTTCATCGTCTTTTGGATTGCTTTTGTCCCTATTG\n"
     ]
    }
   ],
   "source": [
    "data = [FKS2_HS2[x:x+3] for x in range(0,len(FKS2_HS2),3)]\n",
    "for x in range(0,len(data)):\n",
    "    print(FKS2_HS2_left_300bp[len(FKS2_HS2_left_300bp)-homology:]+''.join(data[:x])+'NNK'+''.join(data[x+1:])+FKS2_HS2_right_300bp[:homology])"
   ]
  },
  {
   "cell_type": "markdown",
   "id": "b6ddb313-ae37-4535-85c7-e15afba0d084",
   "metadata": {},
   "source": [
    "## NNK x NNK"
   ]
  },
  {
   "cell_type": "markdown",
   "id": "60438c33-4c8f-49ca-b00a-f059d97c986b",
   "metadata": {},
   "source": [
    "Author: Jordan Jalbert-Ross"
   ]
  },
  {
   "cell_type": "code",
   "execution_count": 1,
   "id": "a30d9bbf-29dd-462d-9fa9-e1609bab2852",
   "metadata": {},
   "outputs": [],
   "source": [
    "file = open(\"dna_sequence.txt\")\n",
    "#La séquence doit être mise sous forme de liste\n",
    "sequence = list('GTTTTTGTTGAGAGCTTACCCAGACTTACAAATTGCCTACTTGGATGAAGAGCCACCTTTGAATGAAGGTGAGGAGCCAAGAATCTATTCCGCTTTGATTGATGGACATTGTGAAATTCTAGATAATGGTCGTAGACGTCCCAAGTTTAGAGTTCAATTATCTGGTAACCCAATTCTTGGTGACGGTAAATCTGATAACCAAAACCATGCTTTGATTTTTTACAGAGGTGAATACATTCAATTAATTGATGCCAACCAAGATAACTACTTGGAAGAATGTCTGAAGATTAGATCTGTTTTGGCTGAATTTGAGGAATTGAACGTTGAACAAGTTAATCCATATGCTCCCGGTTTAAGGTATGAGGAGCAAACAACTAATCATCCTGTTGCTATTGTTGGTGCCAGAGAATACATTTTCTCTGAAAACTCTGGTGTGCTGGGTGATGTGGCCGCTGGTAAAGAACAAACTTTTGGTACATTATTTGCGCGTACTTTATCTCAAATTGGTGGTAAATTGCATTATGGTCATCCGGATTTCATTAATGCTACGTTTATGACCACTAGAGGTGGTGTTTCCAAAGCACAAAAGGGTTTGCATTTAAACGAAGATATTTATGCTGGTATGAATGCTATGCTTCGTGGTGGTCGTATCAAGCATTGTGAGTATTATCAATGTGGTAAAGGTAGAGATTTGGGTTTCGGTACAATTCTAAATTTCACTACTAAGATTGGTGCTGGTATGGGTGAACAAATGTTATCTCGTGAATATTATTATCTGGGTACCCAATTACCAGTGGACCGTTTCCTAACATTCTATTATGCCCATCCTGGTTTCCATTTGAACAACTTGTTCATTCAATTATCTTTGCAAATGTTTATGTTGACTTTGGTGAATTTATCTTCCTTGGCACATGAATCTATTATGTGTATTTACGATAGGAACAAACCAAAAACAGACGCTTTGTTTCCAATTGGGTGTTACAACTTCCAACCTGCGGTTGATTGGGTGAGACGTTATACATTGTCTATTTTCATTGTTTTCTGGATTGCCTTCGTTCCTATTGTTGTTCAAGAACTAATTGAACGTGGTCTATGGAAAGCCACCCAAAGATTTTTCTGCCACCTATTATCATTATCCCCTATGTTCGAAGTGTTTGCGGGCCAAATCTACTCTTCTGCGTTATTAAGTGATTTAGCAATTGGCGGTGCTCGTTATATATCCACCGGTCGTGGTTTTGCAACTTCCCGTATACCATTTTCAATTTTGTATTCAAGATTTGCAGGGTCTGCTATCTACATGGGTGCAAGATCAATGTTAATGTTGCTGTTCGGTACTGTCGCACATTGGCAAGCTCCACTACTGTGGTTTTGGGCCTCTCTGTCTTCATTAATTTTTGCGCCTTTCGTTTTCAATCCACATCAGTTTGCTTGGGAAGATTTCTTTTTGGATTACAGGGATTATATCAGATGGTTATCAAGAGGTAATAATCAATATCATAGAAACTCGTGGATTGGTTACGTGAGGATGTCTAGAGCACGTATTACTGGGTTTAAACGTAAACTGGTTGGCGATGAATCTGAGAAAGCTGCTGGTGACGCAAGCAGAGCTCATAGAACCAATTTGATCATGGCTGAAATCATACCCTGTGCAATTTATGCAGCTGGTTGTTTTATTGCCTTCACGTTTATTAATGCTCAAACCGGTGTCAAGACTACTGATGATGATAGGGTGAATTCTGTTTTACGTATCATCATTTGTACCTTGGCGCCAATCGCCGTTAACCTCGGTGTTCTATTCTTCTGTATGGGTATGTCATGCTGCTCTGGTCCCTTATTTGGTATGTGTTGTAAGAAGACAGGTTCTGTAATGGCTGGAATTGCCCACGGTGTTGCTGTTATTGTCCACATTGCCTTTTTCATTGTCATGTGGGTTTTGGAGAGCTTCAACTTTGTTAGAATGTTAATCGGAGTCGTTACTTGTATTCAATGTCAAAGACTCATTTTTCATTGCATGACAGCGTTAA')"
   ]
  },
  {
   "cell_type": "markdown",
   "id": "2d67a8d2-dd4a-4844-b0cf-caf86aa16eea",
   "metadata": {},
   "source": [
    "## Définir la taille de la séquence à modifier et définir la séquence avec les régions homologues"
   ]
  },
  {
   "cell_type": "code",
   "execution_count": 2,
   "id": "53225f6a-0805-46d9-b91e-ec2377a96b66",
   "metadata": {},
   "outputs": [],
   "source": [
    "HS_len = 24\n",
    "dna_list = sequence[960:-960]\n",
    "\n"
   ]
  },
  {
   "cell_type": "code",
   "execution_count": 3,
   "id": "c48b179d-49c1-4a43-9c9f-934773d96b37",
   "metadata": {},
   "outputs": [],
   "source": [
    "add_on1 = 0\n",
    "add_on2 = 3\n",
    "num = 0"
   ]
  },
  {
   "cell_type": "markdown",
   "id": "b1772294-f8ec-4951-a445-364bedc3330f",
   "metadata": {},
   "source": [
    "## Code pour déterminer toutes les séquences possibles"
   ]
  },
  {
   "cell_type": "code",
   "execution_count": 4,
   "id": "5bb7b6da-82ab-4335-b865-e199df4e340a",
   "metadata": {},
   "outputs": [
    {
     "name": "stdout",
     "output_type": "stream",
     "text": [
      "TTTGTTTCCAATTGGGTGTTACAACTTCCAACCTGCGGTTNNKNNKGTGAGACGTTATACATTGTCTATTTTCATTGTTTTCTGGATTGCCTTCGTTCCTATTG\n",
      "TTTGTTTCCAATTGGGTGTTACAACTTCCAACCTGCGGTTNNKTGGNNKAGACGTTATACATTGTCTATTTTCATTGTTTTCTGGATTGCCTTCGTTCCTATTG\n",
      "TTTGTTTCCAATTGGGTGTTACAACTTCCAACCTGCGGTTNNKTGGGTGNNKCGTTATACATTGTCTATTTTCATTGTTTTCTGGATTGCCTTCGTTCCTATTG\n",
      "TTTGTTTCCAATTGGGTGTTACAACTTCCAACCTGCGGTTNNKTGGGTGAGANNKTATACATTGTCTATTTTCATTGTTTTCTGGATTGCCTTCGTTCCTATTG\n",
      "TTTGTTTCCAATTGGGTGTTACAACTTCCAACCTGCGGTTNNKTGGGTGAGACGTNNKACATTGTCTATTTTCATTGTTTTCTGGATTGCCTTCGTTCCTATTG\n",
      "TTTGTTTCCAATTGGGTGTTACAACTTCCAACCTGCGGTTNNKTGGGTGAGACGTTATNNKTTGTCTATTTTCATTGTTTTCTGGATTGCCTTCGTTCCTATTG\n",
      "TTTGTTTCCAATTGGGTGTTACAACTTCCAACCTGCGGTTNNKTGGGTGAGACGTTATACANNKTCTATTTTCATTGTTTTCTGGATTGCCTTCGTTCCTATTG\n",
      "TTTGTTTCCAATTGGGTGTTACAACTTCCAACCTGCGGTTGATNNKNNKAGACGTTATACATTGTCTATTTTCATTGTTTTCTGGATTGCCTTCGTTCCTATTG\n",
      "TTTGTTTCCAATTGGGTGTTACAACTTCCAACCTGCGGTTGATNNKGTGNNKCGTTATACATTGTCTATTTTCATTGTTTTCTGGATTGCCTTCGTTCCTATTG\n",
      "TTTGTTTCCAATTGGGTGTTACAACTTCCAACCTGCGGTTGATNNKGTGAGANNKTATACATTGTCTATTTTCATTGTTTTCTGGATTGCCTTCGTTCCTATTG\n",
      "TTTGTTTCCAATTGGGTGTTACAACTTCCAACCTGCGGTTGATNNKGTGAGACGTNNKACATTGTCTATTTTCATTGTTTTCTGGATTGCCTTCGTTCCTATTG\n",
      "TTTGTTTCCAATTGGGTGTTACAACTTCCAACCTGCGGTTGATNNKGTGAGACGTTATNNKTTGTCTATTTTCATTGTTTTCTGGATTGCCTTCGTTCCTATTG\n",
      "TTTGTTTCCAATTGGGTGTTACAACTTCCAACCTGCGGTTGATNNKGTGAGACGTTATACANNKTCTATTTTCATTGTTTTCTGGATTGCCTTCGTTCCTATTG\n",
      "TTTGTTTCCAATTGGGTGTTACAACTTCCAACCTGCGGTTGATTGGNNKNNKCGTTATACATTGTCTATTTTCATTGTTTTCTGGATTGCCTTCGTTCCTATTG\n",
      "TTTGTTTCCAATTGGGTGTTACAACTTCCAACCTGCGGTTGATTGGNNKAGANNKTATACATTGTCTATTTTCATTGTTTTCTGGATTGCCTTCGTTCCTATTG\n",
      "TTTGTTTCCAATTGGGTGTTACAACTTCCAACCTGCGGTTGATTGGNNKAGACGTNNKACATTGTCTATTTTCATTGTTTTCTGGATTGCCTTCGTTCCTATTG\n",
      "TTTGTTTCCAATTGGGTGTTACAACTTCCAACCTGCGGTTGATTGGNNKAGACGTTATNNKTTGTCTATTTTCATTGTTTTCTGGATTGCCTTCGTTCCTATTG\n",
      "TTTGTTTCCAATTGGGTGTTACAACTTCCAACCTGCGGTTGATTGGNNKAGACGTTATACANNKTCTATTTTCATTGTTTTCTGGATTGCCTTCGTTCCTATTG\n",
      "TTTGTTTCCAATTGGGTGTTACAACTTCCAACCTGCGGTTGATTGGGTGNNKNNKTATACATTGTCTATTTTCATTGTTTTCTGGATTGCCTTCGTTCCTATTG\n",
      "TTTGTTTCCAATTGGGTGTTACAACTTCCAACCTGCGGTTGATTGGGTGNNKCGTNNKACATTGTCTATTTTCATTGTTTTCTGGATTGCCTTCGTTCCTATTG\n",
      "TTTGTTTCCAATTGGGTGTTACAACTTCCAACCTGCGGTTGATTGGGTGNNKCGTTATNNKTTGTCTATTTTCATTGTTTTCTGGATTGCCTTCGTTCCTATTG\n",
      "TTTGTTTCCAATTGGGTGTTACAACTTCCAACCTGCGGTTGATTGGGTGNNKCGTTATACANNKTCTATTTTCATTGTTTTCTGGATTGCCTTCGTTCCTATTG\n",
      "TTTGTTTCCAATTGGGTGTTACAACTTCCAACCTGCGGTTGATTGGGTGAGANNKNNKACATTGTCTATTTTCATTGTTTTCTGGATTGCCTTCGTTCCTATTG\n",
      "TTTGTTTCCAATTGGGTGTTACAACTTCCAACCTGCGGTTGATTGGGTGAGANNKTATNNKTTGTCTATTTTCATTGTTTTCTGGATTGCCTTCGTTCCTATTG\n",
      "TTTGTTTCCAATTGGGTGTTACAACTTCCAACCTGCGGTTGATTGGGTGAGANNKTATACANNKTCTATTTTCATTGTTTTCTGGATTGCCTTCGTTCCTATTG\n",
      "TTTGTTTCCAATTGGGTGTTACAACTTCCAACCTGCGGTTGATTGGGTGAGACGTNNKNNKTTGTCTATTTTCATTGTTTTCTGGATTGCCTTCGTTCCTATTG\n",
      "TTTGTTTCCAATTGGGTGTTACAACTTCCAACCTGCGGTTGATTGGGTGAGACGTNNKACANNKTCTATTTTCATTGTTTTCTGGATTGCCTTCGTTCCTATTG\n",
      "TTTGTTTCCAATTGGGTGTTACAACTTCCAACCTGCGGTTGATTGGGTGAGACGTTATNNKNNKTCTATTTTCATTGTTTTCTGGATTGCCTTCGTTCCTATTG\n",
      "28\n"
     ]
    }
   ],
   "source": [
    "for base in dna_list:\n",
    "    i = 0\n",
    "    if add_on1 < HS_len:\n",
    "        #le nombre dans les [] est égal à la longueur des région homologues\n",
    "        #NNK peut etre remplacé par les bases voulues\n",
    "        dna_list[40 + add_on1:43 + add_on1] = 'NNK'\n",
    "        dna_list_list = dna_list.copy()\n",
    "\n",
    "        for bases in dna_list:\n",
    "            if add_on2 + add_on1 < HS_len:\n",
    "                dna_list[40 + add_on2 + add_on1: 43 + add_on1 + add_on2] = 'NNK'\n",
    "                dna = ''.join(dna_list)\n",
    "                print(dna)\n",
    "                num += 1\n",
    "                add_on2 += 3\n",
    "                dna_list = dna_list_list.copy()\n",
    "\n",
    "            else:\n",
    "                break\n",
    "        add_on1 += 3\n",
    "        add_on2 -= (add_on2 -3)\n",
    "        dna_list = sequence[960:-960]\n",
    "\n",
    "#Ceci sert a savoir le nombre de séquences obtenus\n",
    "print(num)"
   ]
  },
  {
   "cell_type": "markdown",
   "id": "d3112261-0ab2-4d06-9d61-20165cb771bb",
   "metadata": {},
   "source": [
    "## Orthologs"
   ]
  },
  {
   "cell_type": "markdown",
   "id": "96a5c1ea-316d-4498-966b-59909ff1a653",
   "metadata": {},
   "source": [
    "Author: Romain Durand"
   ]
  },
  {
   "cell_type": "code",
   "execution_count": 3,
   "id": "72be34f6-204e-4f56-a445-74774f8223ad",
   "metadata": {},
   "outputs": [],
   "source": [
    "def get_codons(aminoacid, table, mode):\n",
    "    table = table.sort_values(by=['aminoacid','freq'], ascending=[True,False])\n",
    "    #MODE = NNN, NNK, NNS, 'most_used'\n",
    "    codon = table.loc[table['aminoacid']==aminoacid, 'codon'].values\n",
    "    if mode == 'NNN':\n",
    "        pass\n",
    "    elif mode == 'NNK':\n",
    "        NNK_codon = []\n",
    "        [NNK_codon.append(x) for x in codon if (x[2]=='G') | (x[2]=='T')]\n",
    "        codon = NNK_codon\n",
    "    elif mode == 'NNS':\n",
    "        NNS_codon = []\n",
    "        [NNS_codon.append(x) for x in codon if (x[2]=='G') | (x[2]=='C')]\n",
    "        codon = NNS_codon\n",
    "    elif mode == 'most_used':\n",
    "        codon = table.loc[table['aminoacid']==aminoacid, 'codon'].values[0]\n",
    "    return codon"
   ]
  },
  {
   "cell_type": "code",
   "execution_count": 4,
   "id": "d1c6fd1f-e875-49c2-89a2-585d73e428e4",
   "metadata": {},
   "outputs": [
    {
     "name": "stdout",
     "output_type": "stream",
     "text": [
      "TCT\n"
     ]
    }
   ],
   "source": [
    "print(get_codons('S', codon_table, 'most_used'))"
   ]
  },
  {
   "cell_type": "code",
   "execution_count": 5,
   "id": "3bb00d55-1300-4a61-bae7-182337a59370",
   "metadata": {
    "tags": []
   },
   "outputs": [],
   "source": [
    "def generate_new_codons(codon, table):\n",
    "    aa = table.loc[table['codon']==codon, 'aminoacid'].values[0]\n",
    "    list_codons = get_codons(aa, table, 'NNK')\n",
    "    #list_codons.remove(codon)\n",
    "    return codon, list_codons"
   ]
  },
  {
   "cell_type": "code",
   "execution_count": 6,
   "id": "44c9dbb4-54ee-4728-967f-9d51a78f6022",
   "metadata": {
    "tags": []
   },
   "outputs": [
    {
     "name": "stdout",
     "output_type": "stream",
     "text": [
      "('TTG', ['TTG', 'CTT', 'CTG'])\n"
     ]
    }
   ],
   "source": [
    "print(generate_new_codons('TTG', codon_table))"
   ]
  },
  {
   "cell_type": "code",
   "execution_count": 12,
   "id": "e4df8574-1790-452c-9501-21391fa4551a",
   "metadata": {
    "tags": []
   },
   "outputs": [
    {
     "name": "stdout",
     "output_type": "stream",
     "text": [
      "GCTATTTGTTCTGATTTGAGAGAAGAT\n",
      "TTGCAAGTTAAACCAATGATTAAACCA\n",
      "TTGCAAATTAGACCATTGATTGCTCCA\n",
      "TTTTTGGCTTTGTCTTTTAGAGATGCT\n",
      "TTTTTGACTTTGTCTGCTAAAGATCCA\n",
      "TTTTTGACTTTGTCTGTTAGAGATCCA\n",
      "TTTTTGGCTTTGTCTTTTAAAGATCCA\n",
      "TTTTTGACTTTGAATTTGTCTGATTCT\n",
      "TTTTTGGCTTTGAATTTGTCTGATTCT\n",
      "TTTTTGACTTTGAATTTGGCTGATTCT\n",
      "TATTTGACTTTGTCTTTTTCTGATCCA\n",
      "TTTTTGACTTTGTCTTTTAGAGATCCA\n",
      "TTTTTGACTTCTTCTTTTTCTTCTCCA\n",
      "TTTTTGACTTTGTCTTTTGAAAATCCA\n",
      "TTTTTGTCTTTGTCTTTTAGAGATCCA\n",
      "TTTTTGACTTTGTCTATTAGAGATCCA\n",
      "TTTTTGACTTTGTCTTTGAGAGATCCA\n",
      "GTTTTGACTTTGTTGGTTACTCAACAT\n",
      "TTTTTGATTTTGTCTTTGAGAGATCCA\n",
      "TTTTTGATTAAATCTTTGATTGATCCA\n",
      "TTTTTGGTTTTGTCTTTGAGAGATCCA\n",
      "TTTATGGCTTTGTCTTTGAGAGATCCA\n",
      "TTTTTGACTTTGTCTTTGAGAGATGCT\n",
      "TCTTTGACTTTGTCTTTTAGAGATGTT\n",
      "GCTTTGGCTTTGAATATTAAAGATCCA\n",
      "TTTTTGGCTTTGAATATTAAAGATCCA\n",
      "TATTTGACTTTGTCTTTTAGAGATCCA\n",
      "TTTTTGGCTTTGTCTTTTAGAGATCCA\n",
      "GCTTTGACTTTGTCTTTTAGAGATCCA\n",
      "TTTTTGACTTTGTCTTTTAAAGATCCA\n",
      "TTTTTGACTTTGTCTTTGAAAGATCCA\n",
      "TTTTTGACTTTGTCTATTAAAGATCCA\n",
      "TTTTTGACTCATTCTTTTAGAGATCCA\n",
      "TATTTGACTTTGTCTTTGAGAGATCCA\n",
      "TATTTGATTTTGTCTATTAGAGATCCA\n",
      "TTTTTGACTTTGTCTTTGGTTGATCCA\n",
      "TATTTGACTTTGTCTTTTAGAGATGCT\n",
      "TATTTGACTTTGTCTTTTAAAGATCCA\n",
      "TATTTGGCTTTGTCTTTTAAAGATCCA\n",
      "TATTTGGCTTTGTCTTTTAGAGATCCA\n",
      "TATTTGACTTTGTCTATTAGAGATCCA\n",
      "TTTTTGACTTTGTCTTTTAGAGATACT\n",
      "TATTTGACTAGATCTTTTAGAGATCCA\n",
      "TATTTGATTTTGTCTTTTAGAGATCCA\n",
      "TATTTGACTTTGGCTTTTAGAGATTCT\n",
      "TATTTGACTTTGTCTTTTAGAGATGTT\n",
      "TATTTGACTTTGTCTATTAAAGATCCA\n",
      "TATTTGATTTTGTCTTTGAGAGATCCA\n",
      "TATTTGACTAGAGCTTTTAGAGATTCT\n",
      "TTTTTGGCTTTGTCTATTAGAGATCCA\n"
     ]
    }
   ],
   "source": [
    "f = open('orthologs/FKS1_HS1_orthologs_unique.fa', 'r')\n",
    "orthologs = f.read().splitlines()\n",
    "f.close()\n",
    "orthologs.pop(0)\n",
    "\n",
    "for o in orthologs:\n",
    "    #print(o)\n",
    "    s = [get_codons(n, codon_table, mode = 'most_used') for n in o]\n",
    "    #print(FKS1_HS1_left_300bp[len(FKS1_HS1_left_300bp)-homology:]+''.join(s)+FKS1_HS1_right_300bp[:homology]) #full sequence\n",
    "    print(''.join(s)) #only hotspot"
   ]
  },
  {
   "cell_type": "code",
   "execution_count": 13,
   "id": "c76e04e3-f28b-4e76-9c81-116d77e020aa",
   "metadata": {
    "tags": []
   },
   "outputs": [
    {
     "name": "stdout",
     "output_type": "stream",
     "text": [
      "GGTGTTATTTTGAATCAACAATTT\n",
      "AATCAACAATTTATTATTCAATTG\n",
      "GAATGGATTCAAAGATGTGTTTTG\n",
      "GATTGGTTGCAAAGATGTATGTTG\n",
      "GATTGGTTGAGAAGATGTATTATT\n",
      "GATTGGATTAGAAGATGTATTATT\n",
      "GATTGGGTTAAAAGATGTATTTTG\n",
      "AATTGGTTGAAAAGAGTTGTTATT\n",
      "GAATGGGTTAAAAGATGTATTTTG\n",
      "GAATGGTTGAAAAGATGTATTTTG\n",
      "GAATGGATTAGAAGATGTATTATT\n",
      "GAATGGATTGAAAGATGTATTATT\n",
      "GATTGGATTAAAAGATGTATTATG\n",
      "GATTGGATTAGAAGATGTATTGTT\n",
      "TTGTGGATTAAAAGAACTATTATT\n",
      "AAATGGATTAAAAGATGTATTATT\n",
      "AGATGGATTAAAAGATGTATTATT\n",
      "GATTGGATTAAAAGATGTGTTATT\n",
      "GATTGGATTAAAAGATGTATTGTT\n",
      "AATTGGTTGAAAAGATGTATTATT\n",
      "TCTTGGTTGAAAAGATGTGTTATT\n",
      "GATTGGGTTAGAAGATATACTTTG\n",
      "GATTGGATTAGAAGATATACTTTG\n",
      "GATTGGACTAGAAGATATACTTTG\n",
      "GAATGGATTAGAAGATATACTTTG\n",
      "GATTGGATTAGAAGATGTGTTTTG\n",
      "CATTGGGTTCAAAGATGTATTATT\n",
      "CATTGGGTTCAAAGATGTATTGTT\n",
      "GATTGGGTTTCTAGATCTACTTTG\n",
      "GATTGGGTTTATAGATCTATTATT\n",
      "AATTGGGTTTATAGATGTATTATT\n",
      "AATTGGGTTTATAGATGTGTTATT\n",
      "GATTGGGTTTATAGATGTATTATT\n",
      "GATTGGGTTTGGAGATGTATTATT\n",
      "GATTGGGTTTATAGATGTACTATT\n",
      "AATTGGGTTTATAGATGTATTTTG\n",
      "AATTGGGTTAATAGATGTGTTATT\n",
      "GATTGGGTTAATAGATGTGTTATT\n",
      "AATTGGGTTGATAGATGTGTTATT\n",
      "GATTGGGTTAATAGATGTATTGTT\n",
      "AATTGGGTTAATAGATGTATTGTT\n",
      "AATTGGGTTAATAGATGTGTTTTG\n",
      "GATTGGGTTAATAGATGTATTATT\n",
      "GATTGGATTGATAGATGTATTGCT\n",
      "GAATGGGTTCAAAGATGTACTGCT\n",
      "GATTGGGTTCAAAGATGTACTGCT\n",
      "GCTTGGGTTAATAGATGTATTGCT\n",
      "GATTGGGTTAATAGATGTATTGCT\n",
      "GATTGGGTTAATAGATGTGTTGCT\n",
      "GATTGGGTTCATAGATGTATTGCT\n",
      "GATTGGGTTCAAAGATGTATTGTT\n",
      "GATTGGGTTAATAGATGTATTTTG\n",
      "CAATGGGTTGAAAGATGTATTGTT\n",
      "GAATGGGTTGAAAGATGTGTTTTG\n",
      "GAATGGGTTGAAAGATGTATTGTT\n",
      "GATTGGGTTTCTAGATGTATTGTT\n",
      "GATTGGGTTGAAAGATGTATTGTT\n",
      "GGTTGGGTTGAAAGATGTGTTTTG\n",
      "GAATGGGTTGAAAGATGTGTTGTT\n",
      "GAATGGGTTCAAAGATGTGTTGTT\n",
      "GATTGGGTTACTAGATGTGTTGTT\n",
      "GATTGGGTTGAAAGATGTGTTGTT\n",
      "AATTGGATTTCTATTGTTATTTTG\n",
      "GATTGGGTTGCTAGATGTATTTTG\n",
      "GATTGGGTTACTAGATCTATTGTT\n",
      "GATTGGGTTGCTAGATGTATTGTT\n",
      "GATTGGGTTGCTAGATCTATTGCT\n",
      "GATTGGGTTGCTAGATGTATTATT\n",
      "GATTGGATTCAAAGATGTTGTGTT\n",
      "GATTGGATTGAAAGATGTTGTGTT\n",
      "AATTGGGTTCAAAGATGTGTTGTT\n",
      "AATTGGGTTGAAAGATGTATTGTT\n",
      "GATTGGATGTGGAGATGTGTTATT\n",
      "GATTGGATTTATAGATCTATTGTT\n",
      "GGTTGGGTTCAAAGATGTGTTTTG\n",
      "GATTGGGTTTATAGATGTATTTTG\n",
      "GATTGGGTTTTTAGATCTATTTTG\n",
      "GATTGGGTTTTTAGATCTGTTTTG\n",
      "GATTGGATTTATAGATGTGTTTTG\n",
      "GATTGGGTTTATAGATGTGTTTTG\n",
      "GATTGGGTTTATAGATCTGTTATT\n",
      "AATTGGGTTTGGAGATGTGTTATT\n",
      "GATTGGGTTCAAAGATCTATTTTG\n",
      "GATTGGATTTATAGATGTATTGTT\n",
      "GATTGGGTTCAAAGATGTGTTTTT\n",
      "GATTGGATTCAAAGATGTGTTTTT\n",
      "GATTGGGTTCAAAGATCTATTTTT\n",
      "CAATGGGTTCAAAGATCTGTTTTG\n",
      "CAATGGGTTCAAAGATCTATTTTT\n",
      "GATTGGGTTTATAGATCTATTTTG\n",
      "AATTGGGTTTATAGATGTGTTTTG\n",
      "GATTGGGTTTGGAGATGTGTTATG\n",
      "GATTGGATTTATAGATCTGTTTTG\n",
      "GATTGGGTTTATAGATCTGTTTTG\n",
      "GATTGGATTTATAGATCTATTTTG\n"
     ]
    }
   ],
   "source": [
    "f = open('orthologs/FKS1_HS2_orthologs_unique.fa', 'r')\n",
    "orthologs = f.read().splitlines()\n",
    "f.close()\n",
    "orthologs.pop(0)\n",
    "\n",
    "for o in orthologs:\n",
    "    #print(o)\n",
    "    s = [get_codons(n, codon_table, mode = 'most_used') for n in o]\n",
    "    #print(FKS1_HS2_left_300bp[len(FKS1_HS2_left_300bp)-homology:]+''.join(s)+FKS1_HS2_right_300bp[:homology]) #full sequence\n",
    "    print(''.join(s)) #only hotspot"
   ]
  },
  {
   "cell_type": "code",
   "execution_count": 14,
   "id": "75f60a29-df94-401d-99ac-12af423f466a",
   "metadata": {
    "tags": []
   },
   "outputs": [
    {
     "name": "stdout",
     "output_type": "stream",
     "text": [
      "CAAGTTAAACCAATGATTAAACCA\n",
      "CAAATTAGACCATTGATTGCTCCA\n",
      "TTGTTGTTGCCATTGGGTGAACCA\n",
      "TTGGCTTTGTCTTTTAGAGATGCT\n",
      "TTGACTTTGTCTGCTAAAGATCCA\n",
      "TTGACTTTGTCTGTTAGAGATCCA\n",
      "TTGACTTTGAATTTGTCTGATTCT\n",
      "TTGGCTTTGAATTTGTCTGATTCT\n",
      "TTGACTTTGAATTTGGCTGATTCT\n",
      "TTGACTTTGTCTATTAGAGATCCA\n",
      "TTGTCTTTGTCTTTTAGAGATCCA\n",
      "TTGACTTTGTCTTTTTCTGATCCA\n",
      "TTGACTTCTTCTTTTTCTTCTCCA\n",
      "TTGACTTTGTCTTTTAGAGATCCA\n",
      "TTGACTTTGTCTTTTGAAAATCCA\n",
      "TTGATTTTGTCTTTGAGAGATCCA\n",
      "TTGACTTTGTCTTTGAGAGATCCA\n",
      "TTGATTAAATCTTTGATTGATCCA\n",
      "ATGGCTTTGTCTTTGAGAGATCCA\n",
      "TTGATTTTGTCTATTAGAGATCCA\n",
      "TTGACTTTGTCTTTGAGAGATGCT\n",
      "TTGACTTTGTCTTTGAAAGATCCA\n",
      "TTGGTTTTGTCTATTAAAGATCCA\n",
      "ATGATTTTGTCTTTGAGAGATCCA\n",
      "TTGATTTTGTCTTTGAAAGATCCA\n",
      "TTGACTTTGTTGGTTACTCAACAT\n",
      "TTGATTTTGTCTATGAGAGATCCA\n",
      "TTGATTAAATCTTTGAGAGATCCA\n",
      "TTGGTTTTGTCTTTGAGAGATCCA\n",
      "TTGTCTTTGTCTTTGAGAGATCCA\n",
      "TTGGTTTTGTCTATTAGAGATCCA\n",
      "TTGATTTTGTCTGCTAGAGATCCA\n",
      "TTGACTGCTTCTTTGAGAAGATCT\n",
      "TTGGCTTTGTCTTTTAAAGATCCA\n",
      "TTGGCTTTGTCTTTTAGAGATCCA\n",
      "TTGATTTTGTCTTTTAGAGATCCA\n",
      "TTGACTTTGTCTATTAAAGATCCA\n",
      "TTGACTAGAGCTTTTAGAGATTCT\n",
      "TTGGCTTTGTCTATTAGAGATCCA\n",
      "TTGACTTTGTCTTTTAAAGATCCA\n"
     ]
    }
   ],
   "source": [
    "f = open('orthologs/FKS2_HS1_orthologs_unique.fa', 'r')\n",
    "orthologs = f.read().splitlines()\n",
    "f.close()\n",
    "orthologs.pop(0)\n",
    "\n",
    "for o in orthologs:\n",
    "    #print(o)\n",
    "    s = [get_codons(n, codon_table, mode = 'most_used') for n in o]\n",
    "    #print(FKS2_HS1_left_300bp[len(FKS2_HS1_left_300bp)-homology:]+''.join(s)+FKS2_HS1_right_300bp[:homology]) #full sequence\n",
    "    print(''.join(s)) #only hotspot"
   ]
  },
  {
   "cell_type": "code",
   "execution_count": 15,
   "id": "86905c27-64e7-4f86-9869-3f6319531e48",
   "metadata": {
    "tags": []
   },
   "outputs": [
    {
     "name": "stdout",
     "output_type": "stream",
     "text": [
      "GGTGTTATTTTGAATCAACAATTT\n",
      "GGTGCTATTTTGAATCAACAATTT\n",
      "GATTGGATGAGACAATCTTTGTTG\n",
      "GAATGGATTCAAAGATGTGTTTTG\n",
      "GATTGGTTGCAAAGATGTATGTTG\n",
      "GATTGGTTGAGAAGATGTATTATT\n",
      "GATTGGATTAGAAGATGTATTATT\n",
      "AATTGGTTGAAAAGAGTTGTTATT\n",
      "GATTGGGTTAAAAGATGTATTTTG\n",
      "GAATGGGTTAAAAGATGTATTTTG\n",
      "GAATGGTTGAAAAGATGTATTTTG\n",
      "TCTTGGTTGAAAAGATGTGTTATT\n",
      "AATTGGTTGAAAAGATGTATTATT\n",
      "GAATGGATTAGAAGATGTATTATT\n",
      "GAATGGATTGAAAGATGTATTATT\n",
      "GATTGGATTAAAAGATGTATTATG\n",
      "GATTGGATTAGAAGATGTATTGTT\n",
      "TTGTGGATTAAAAGAACTATTATT\n",
      "CAATGGATTAAAAGATGTATTATT\n",
      "AAATGGATTAAAAGATGTATTATT\n",
      "AGATGGATTAAAAGATGTATTATT\n",
      "GATTGGATTAAAAGATGTGTTATT\n",
      "GATTGGATTAAAAGATGTATTGTT\n",
      "GATTGGGTTTATAGATGTATTTTG\n",
      "GATTGGGTTAGAAGATTTACTTTG\n",
      "GATTGGGTTAGAAGATATACTTTG\n",
      "GATTGGATTAGAAGATATACTTTG\n",
      "GATTGGACTAGAAGATATACTTTG\n",
      "GAATGGATTAGAAGATATACTTTG\n",
      "GATTGGATTAAAAGATCTATTATT\n",
      "GGTTGGGTTCAAAGATGTATTTTG\n",
      "GATTGGATTGATAGATGTGTTTTG\n",
      "GATTGGGTTCAAAGATGTATTTTG\n",
      "GATTGGATTAGAAGATGTGTTTTG\n",
      "GATTGGGTTAGAAGATGTATTTTG\n",
      "GGTTGGTGTCAAAGATATATTTTG\n",
      "GGTTGGTTGTATAGATGTATTTTG\n",
      "GATTGGATTTATAGATGTGTTATT\n",
      "AATTGGGTTTGGAGATGTGTTATT\n",
      "GATTGGGTTTTTAGATCTATTTTG\n",
      "GATTGGGTTTTTAGATCTGTTTTG\n",
      "GATTGGATTTATAGATGTGTTTTG\n",
      "GATTGGGTTTATAGATGTGTTTTG\n",
      "GATTGGGTTCAAAGATGTGTTTTT\n",
      "GATTGGATTTATAGATGTATTGTT\n",
      "GATTGGGTTTATAGATCTATTTTG\n",
      "GATTGGGTTTATAGATCTGTTTTG\n",
      "AATTGGGTTTATAGATGTATTATT\n",
      "GATTGGGTTCAAAGATGTATTGTT\n",
      "GATTGGGTTACTAGATCTATTGTT\n",
      "GATTGGGTTGCTAGATGTATTGTT\n",
      "GATTGGGTTGCTAGATCTATTGCT\n",
      "GAATGGGTTCAAAGATGTACTGCT\n",
      "GATTGGGTTCAAAGATGTACTGCT\n",
      "GATTGGGTTAATAGATGTATTGCT\n",
      "GCTTGGGTTAATAGATGTATTGCT\n",
      "GATTGGGTTAATAGATGTATTTTG\n",
      "AATTGGGTTAATAGATGTATTGTT\n",
      "AATTGGGTTGATAGATGTGTTATT\n",
      "AATTGGGTTAATAGATGTGTTATT\n",
      "GATTGGGTTAATAGATGTGTTATT\n",
      "GCTTGGGTTAATAGATGTGTTGTT\n",
      "GATTGGGTTAATAGATGTATTATT\n"
     ]
    }
   ],
   "source": [
    "f = open('orthologs/FKS2_HS2_orthologs_unique.fa', 'r')\n",
    "orthologs = f.read().splitlines()\n",
    "f.close()\n",
    "orthologs.pop(0)\n",
    "\n",
    "for o in orthologs:\n",
    "    #print(o)\n",
    "    s = [get_codons(n, codon_table, mode = 'most_used') for n in o]\n",
    "    #print(FKS2_HS2_left_300bp[len(FKS2_HS2_left_300bp)-homology:]+''.join(s)+FKS2_HS2_right_300bp[:homology]) #full sequence\n",
    "    print(''.join(s)) #only hotspot"
   ]
  }
 ],
 "metadata": {
  "kernelspec": {
   "display_name": "Python 3 (ipykernel)",
   "language": "python",
   "name": "python3"
  },
  "language_info": {
   "codemirror_mode": {
    "name": "ipython",
    "version": 3
   },
   "file_extension": ".py",
   "mimetype": "text/x-python",
   "name": "python",
   "nbconvert_exporter": "python",
   "pygments_lexer": "ipython3",
   "version": "3.11.6"
  }
 },
 "nbformat": 4,
 "nbformat_minor": 5
}
