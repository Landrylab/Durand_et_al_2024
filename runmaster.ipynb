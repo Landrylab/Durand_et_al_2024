{
 "cells": [
  {
   "cell_type": "markdown",
   "id": "3d14ed3e-ffab-49ce-b839-ffe7b04080bc",
   "metadata": {},
   "source": [
    "# Notebook to run template on all sets of conditions"
   ]
  },
  {
   "cell_type": "code",
   "execution_count": 1,
   "id": "e51b4d4a-ff35-431a-82c8-905b0e74d699",
   "metadata": {
    "tags": []
   },
   "outputs": [],
   "source": [
    "import papermill as pm\n",
    "import os\n",
    "import glob\n",
    "import pandas as pd"
   ]
  },
  {
   "cell_type": "code",
   "execution_count": 2,
   "id": "65a9f280-c693-4c18-92cc-e41aa632a2c6",
   "metadata": {
    "tags": []
   },
   "outputs": [
    {
     "name": "stderr",
     "output_type": "stream",
     "text": [
      "/home/rodur28/anaconda3/envs/dms-env/lib/python3.11/site-packages/tqdm/auto.py:21: TqdmWarning: IProgress not found. Please update jupyter and ipywidgets. See https://ipywidgets.readthedocs.io/en/stable/user_install.html\n",
      "  from .autonotebook import tqdm as notebook_tqdm\n"
     ]
    },
    {
     "name": "stdout",
     "output_type": "stream",
     "text": [
      "BY4741_FKS1-HS2_double_caspofungin_variant_data_merge.tsv\n"
     ]
    },
    {
     "name": "stderr",
     "output_type": "stream",
     "text": [
      "Executing:   0%|                                                                              | 0/130 [00:00<?, ?cell/s]0.00s - Debugger warning: It seems that frozen modules are being used, which may\n",
      "0.00s - make the debugger miss breakpoints. Please pass -Xfrozen_modules=off\n",
      "0.00s - to python to disable frozen modules.\n",
      "0.00s - Note: Debugging will proceed. Set PYDEVD_DISABLE_FILE_VALIDATION=1 to disable this validation.\n",
      "Executing: 100%|████████████████████████████████████████████████████████████████████| 130/130 [00:12<00:00, 10.55cell/s]\n"
     ]
    },
    {
     "name": "stdout",
     "output_type": "stream",
     "text": [
      "R1158_FKS2-HS2_double_none_variant_data_merge.tsv\n"
     ]
    },
    {
     "name": "stderr",
     "output_type": "stream",
     "text": [
      "Executing:   0%|                                                                              | 0/130 [00:00<?, ?cell/s]0.00s - Debugger warning: It seems that frozen modules are being used, which may\n",
      "0.00s - make the debugger miss breakpoints. Please pass -Xfrozen_modules=off\n",
      "0.00s - to python to disable frozen modules.\n",
      "0.00s - Note: Debugging will proceed. Set PYDEVD_DISABLE_FILE_VALIDATION=1 to disable this validation.\n",
      "Executing: 100%|████████████████████████████████████████████████████████████████████| 130/130 [00:12<00:00, 10.05cell/s]\n"
     ]
    },
    {
     "name": "stdout",
     "output_type": "stream",
     "text": [
      "R1158_FKS2-HS2_double_micafungin_variant_data_merge.tsv\n"
     ]
    },
    {
     "name": "stderr",
     "output_type": "stream",
     "text": [
      "Executing:   0%|                                                                              | 0/130 [00:00<?, ?cell/s]0.00s - Debugger warning: It seems that frozen modules are being used, which may\n",
      "0.00s - make the debugger miss breakpoints. Please pass -Xfrozen_modules=off\n",
      "0.00s - to python to disable frozen modules.\n",
      "0.00s - Note: Debugging will proceed. Set PYDEVD_DISABLE_FILE_VALIDATION=1 to disable this validation.\n",
      "Executing: 100%|████████████████████████████████████████████████████████████████████| 130/130 [00:13<00:00,  9.72cell/s]\n"
     ]
    },
    {
     "name": "stdout",
     "output_type": "stream",
     "text": [
      "R1158_FKS2-HS1_double_caspofungin_variant_data_merge.tsv\n"
     ]
    },
    {
     "name": "stderr",
     "output_type": "stream",
     "text": [
      "Executing:   0%|                                                                              | 0/130 [00:00<?, ?cell/s]0.00s - Debugger warning: It seems that frozen modules are being used, which may\n",
      "0.00s - make the debugger miss breakpoints. Please pass -Xfrozen_modules=off\n",
      "0.00s - to python to disable frozen modules.\n",
      "0.00s - Note: Debugging will proceed. Set PYDEVD_DISABLE_FILE_VALIDATION=1 to disable this validation.\n",
      "Executing: 100%|████████████████████████████████████████████████████████████████████| 130/130 [00:13<00:00,  9.55cell/s]\n"
     ]
    },
    {
     "name": "stdout",
     "output_type": "stream",
     "text": [
      "R1158_FKS2-HS2_double_dox_variant_data_merge.tsv\n"
     ]
    },
    {
     "name": "stderr",
     "output_type": "stream",
     "text": [
      "Executing:   0%|                                                                              | 0/130 [00:00<?, ?cell/s]0.00s - Debugger warning: It seems that frozen modules are being used, which may\n",
      "0.00s - make the debugger miss breakpoints. Please pass -Xfrozen_modules=off\n",
      "0.00s - to python to disable frozen modules.\n",
      "0.00s - Note: Debugging will proceed. Set PYDEVD_DISABLE_FILE_VALIDATION=1 to disable this validation.\n",
      "Executing: 100%|████████████████████████████████████████████████████████████████████| 130/130 [00:12<00:00, 10.30cell/s]\n"
     ]
    },
    {
     "name": "stdout",
     "output_type": "stream",
     "text": [
      "R1158_FKS1-HS2_double_none_variant_data_merge.tsv\n"
     ]
    },
    {
     "name": "stderr",
     "output_type": "stream",
     "text": [
      "Executing:   0%|                                                                              | 0/130 [00:00<?, ?cell/s]0.00s - Debugger warning: It seems that frozen modules are being used, which may\n",
      "0.00s - make the debugger miss breakpoints. Please pass -Xfrozen_modules=off\n",
      "0.00s - to python to disable frozen modules.\n",
      "0.00s - Note: Debugging will proceed. Set PYDEVD_DISABLE_FILE_VALIDATION=1 to disable this validation.\n",
      "Executing: 100%|████████████████████████████████████████████████████████████████████| 130/130 [00:12<00:00, 10.24cell/s]\n"
     ]
    },
    {
     "name": "stdout",
     "output_type": "stream",
     "text": [
      "R1158_FKS2-HS1_single_ortho_micafungin_variant_data_merge.tsv\n"
     ]
    },
    {
     "name": "stderr",
     "output_type": "stream",
     "text": [
      "Executing:   0%|                                                                              | 0/130 [00:00<?, ?cell/s]0.00s - Debugger warning: It seems that frozen modules are being used, which may\n",
      "0.00s - make the debugger miss breakpoints. Please pass -Xfrozen_modules=off\n",
      "0.00s - to python to disable frozen modules.\n",
      "0.00s - Note: Debugging will proceed. Set PYDEVD_DISABLE_FILE_VALIDATION=1 to disable this validation.\n",
      "Executing: 100%|████████████████████████████████████████████████████████████████████| 130/130 [00:12<00:00, 10.28cell/s]\n"
     ]
    },
    {
     "name": "stdout",
     "output_type": "stream",
     "text": [
      "BY4741_FKS1-HS2_double_none_variant_data_merge.tsv\n"
     ]
    },
    {
     "name": "stderr",
     "output_type": "stream",
     "text": [
      "Executing:   0%|                                                                              | 0/130 [00:00<?, ?cell/s]0.00s - Debugger warning: It seems that frozen modules are being used, which may\n",
      "0.00s - make the debugger miss breakpoints. Please pass -Xfrozen_modules=off\n",
      "0.00s - to python to disable frozen modules.\n",
      "0.00s - Note: Debugging will proceed. Set PYDEVD_DISABLE_FILE_VALIDATION=1 to disable this validation.\n",
      "Executing: 100%|████████████████████████████████████████████████████████████████████| 130/130 [00:11<00:00, 11.01cell/s]\n"
     ]
    },
    {
     "name": "stdout",
     "output_type": "stream",
     "text": [
      "R1158_FKS1-HS1_single_ortho_dox_variant_data_merge.tsv\n"
     ]
    },
    {
     "name": "stderr",
     "output_type": "stream",
     "text": [
      "Executing:   0%|                                                                              | 0/130 [00:00<?, ?cell/s]0.00s - Debugger warning: It seems that frozen modules are being used, which may\n",
      "0.00s - make the debugger miss breakpoints. Please pass -Xfrozen_modules=off\n",
      "0.00s - to python to disable frozen modules.\n",
      "0.00s - Note: Debugging will proceed. Set PYDEVD_DISABLE_FILE_VALIDATION=1 to disable this validation.\n",
      "Executing: 100%|████████████████████████████████████████████████████████████████████| 130/130 [00:12<00:00, 10.11cell/s]\n"
     ]
    },
    {
     "name": "stdout",
     "output_type": "stream",
     "text": [
      "R1158_FKS1-HS2_double_dox_variant_data_merge.tsv\n"
     ]
    },
    {
     "name": "stderr",
     "output_type": "stream",
     "text": [
      "Executing:   0%|                                                                              | 0/130 [00:00<?, ?cell/s]0.00s - Debugger warning: It seems that frozen modules are being used, which may\n",
      "0.00s - make the debugger miss breakpoints. Please pass -Xfrozen_modules=off\n",
      "0.00s - to python to disable frozen modules.\n",
      "0.00s - Note: Debugging will proceed. Set PYDEVD_DISABLE_FILE_VALIDATION=1 to disable this validation.\n",
      "Executing: 100%|████████████████████████████████████████████████████████████████████| 130/130 [00:12<00:00, 10.43cell/s]\n"
     ]
    },
    {
     "name": "stdout",
     "output_type": "stream",
     "text": [
      "R1158_FKS1-HS2_single_ortho_micafungin_variant_data_merge.tsv\n"
     ]
    },
    {
     "name": "stderr",
     "output_type": "stream",
     "text": [
      "Executing:   0%|                                                                              | 0/130 [00:00<?, ?cell/s]0.00s - Debugger warning: It seems that frozen modules are being used, which may\n",
      "0.00s - make the debugger miss breakpoints. Please pass -Xfrozen_modules=off\n",
      "0.00s - to python to disable frozen modules.\n",
      "0.00s - Note: Debugging will proceed. Set PYDEVD_DISABLE_FILE_VALIDATION=1 to disable this validation.\n",
      "Executing: 100%|████████████████████████████████████████████████████████████████████| 130/130 [00:13<00:00,  9.99cell/s]\n"
     ]
    },
    {
     "name": "stdout",
     "output_type": "stream",
     "text": [
      "R1158_FKS2-HS2_single_ortho_anidulafungin_variant_data_merge.tsv\n"
     ]
    },
    {
     "name": "stderr",
     "output_type": "stream",
     "text": [
      "Executing:   0%|                                                                              | 0/130 [00:00<?, ?cell/s]0.00s - Debugger warning: It seems that frozen modules are being used, which may\n",
      "0.00s - make the debugger miss breakpoints. Please pass -Xfrozen_modules=off\n",
      "0.00s - to python to disable frozen modules.\n",
      "0.00s - Note: Debugging will proceed. Set PYDEVD_DISABLE_FILE_VALIDATION=1 to disable this validation.\n",
      "Executing: 100%|████████████████████████████████████████████████████████████████████| 130/130 [00:12<00:00, 10.75cell/s]\n"
     ]
    },
    {
     "name": "stdout",
     "output_type": "stream",
     "text": [
      "R1158_FKS2-HS2_single_ortho_micafungin_variant_data_merge.tsv\n"
     ]
    },
    {
     "name": "stderr",
     "output_type": "stream",
     "text": [
      "Executing:   0%|                                                                              | 0/130 [00:00<?, ?cell/s]0.00s - Debugger warning: It seems that frozen modules are being used, which may\n",
      "0.00s - make the debugger miss breakpoints. Please pass -Xfrozen_modules=off\n",
      "0.00s - to python to disable frozen modules.\n",
      "0.00s - Note: Debugging will proceed. Set PYDEVD_DISABLE_FILE_VALIDATION=1 to disable this validation.\n",
      "Executing: 100%|████████████████████████████████████████████████████████████████████| 130/130 [00:12<00:00, 10.04cell/s]\n"
     ]
    },
    {
     "name": "stdout",
     "output_type": "stream",
     "text": [
      "R1158_FKS1-HS1_double_caspofungin_variant_data_merge.tsv\n"
     ]
    },
    {
     "name": "stderr",
     "output_type": "stream",
     "text": [
      "Executing:   0%|                                                                              | 0/130 [00:00<?, ?cell/s]0.00s - Debugger warning: It seems that frozen modules are being used, which may\n",
      "0.00s - make the debugger miss breakpoints. Please pass -Xfrozen_modules=off\n",
      "0.00s - to python to disable frozen modules.\n",
      "0.00s - Note: Debugging will proceed. Set PYDEVD_DISABLE_FILE_VALIDATION=1 to disable this validation.\n",
      "Executing: 100%|████████████████████████████████████████████████████████████████████| 130/130 [00:14<00:00,  8.85cell/s]\n"
     ]
    },
    {
     "name": "stdout",
     "output_type": "stream",
     "text": [
      "R1158_FKS1-HS2_single_ortho_caspofungin_variant_data_merge.tsv\n"
     ]
    },
    {
     "name": "stderr",
     "output_type": "stream",
     "text": [
      "Executing:   0%|                                                                              | 0/130 [00:00<?, ?cell/s]0.00s - Debugger warning: It seems that frozen modules are being used, which may\n",
      "0.00s - make the debugger miss breakpoints. Please pass -Xfrozen_modules=off\n",
      "0.00s - to python to disable frozen modules.\n",
      "0.00s - Note: Debugging will proceed. Set PYDEVD_DISABLE_FILE_VALIDATION=1 to disable this validation.\n",
      "Executing: 100%|████████████████████████████████████████████████████████████████████| 130/130 [00:13<00:00,  9.97cell/s]\n"
     ]
    },
    {
     "name": "stdout",
     "output_type": "stream",
     "text": [
      "R1158_FKS2-HS1_single_ortho_anidulafungin_variant_data_merge.tsv\n"
     ]
    },
    {
     "name": "stderr",
     "output_type": "stream",
     "text": [
      "Executing:   0%|                                                                              | 0/130 [00:00<?, ?cell/s]0.00s - Debugger warning: It seems that frozen modules are being used, which may\n",
      "0.00s - make the debugger miss breakpoints. Please pass -Xfrozen_modules=off\n",
      "0.00s - to python to disable frozen modules.\n",
      "0.00s - Note: Debugging will proceed. Set PYDEVD_DISABLE_FILE_VALIDATION=1 to disable this validation.\n",
      "Executing: 100%|████████████████████████████████████████████████████████████████████| 130/130 [00:13<00:00,  9.91cell/s]\n"
     ]
    },
    {
     "name": "stdout",
     "output_type": "stream",
     "text": [
      "R1158_FKS2-HS1_single_ortho_dox_variant_data_merge.tsv\n"
     ]
    },
    {
     "name": "stderr",
     "output_type": "stream",
     "text": [
      "Executing:   0%|                                                                              | 0/130 [00:00<?, ?cell/s]0.00s - Debugger warning: It seems that frozen modules are being used, which may\n",
      "0.00s - make the debugger miss breakpoints. Please pass -Xfrozen_modules=off\n",
      "0.00s - to python to disable frozen modules.\n",
      "0.00s - Note: Debugging will proceed. Set PYDEVD_DISABLE_FILE_VALIDATION=1 to disable this validation.\n",
      "Executing: 100%|████████████████████████████████████████████████████████████████████| 130/130 [00:12<00:00, 10.40cell/s]\n"
     ]
    },
    {
     "name": "stdout",
     "output_type": "stream",
     "text": [
      "R1158_FKS2-HS2_single_ortho_none_variant_data_merge.tsv\n"
     ]
    },
    {
     "name": "stderr",
     "output_type": "stream",
     "text": [
      "Executing:   0%|                                                                              | 0/130 [00:00<?, ?cell/s]0.00s - Debugger warning: It seems that frozen modules are being used, which may\n",
      "0.00s - make the debugger miss breakpoints. Please pass -Xfrozen_modules=off\n",
      "0.00s - to python to disable frozen modules.\n",
      "0.00s - Note: Debugging will proceed. Set PYDEVD_DISABLE_FILE_VALIDATION=1 to disable this validation.\n",
      "Executing: 100%|████████████████████████████████████████████████████████████████████| 130/130 [00:12<00:00, 10.09cell/s]\n"
     ]
    },
    {
     "name": "stdout",
     "output_type": "stream",
     "text": [
      "BY4741_FKS1-HS2_single_ortho_caspofungin_variant_data_merge.tsv\n"
     ]
    },
    {
     "name": "stderr",
     "output_type": "stream",
     "text": [
      "Executing:   0%|                                                                              | 0/130 [00:00<?, ?cell/s]0.00s - Debugger warning: It seems that frozen modules are being used, which may\n",
      "0.00s - make the debugger miss breakpoints. Please pass -Xfrozen_modules=off\n",
      "0.00s - to python to disable frozen modules.\n",
      "0.00s - Note: Debugging will proceed. Set PYDEVD_DISABLE_FILE_VALIDATION=1 to disable this validation.\n",
      "Executing: 100%|████████████████████████████████████████████████████████████████████| 130/130 [00:12<00:00, 10.05cell/s]\n"
     ]
    },
    {
     "name": "stdout",
     "output_type": "stream",
     "text": [
      "BY4741_FKS1-HS1_single_ortho_none_variant_data_merge.tsv\n"
     ]
    },
    {
     "name": "stderr",
     "output_type": "stream",
     "text": [
      "Executing:   0%|                                                                              | 0/130 [00:00<?, ?cell/s]0.00s - Debugger warning: It seems that frozen modules are being used, which may\n",
      "0.00s - make the debugger miss breakpoints. Please pass -Xfrozen_modules=off\n",
      "0.00s - to python to disable frozen modules.\n",
      "0.00s - Note: Debugging will proceed. Set PYDEVD_DISABLE_FILE_VALIDATION=1 to disable this validation.\n",
      "Executing: 100%|████████████████████████████████████████████████████████████████████| 130/130 [00:11<00:00, 10.83cell/s]\n"
     ]
    },
    {
     "name": "stdout",
     "output_type": "stream",
     "text": [
      "BY4741_FKS2-HS1_single_ortho_none_variant_data_merge.tsv\n"
     ]
    },
    {
     "name": "stderr",
     "output_type": "stream",
     "text": [
      "Executing:   0%|                                                                              | 0/130 [00:00<?, ?cell/s]0.00s - Debugger warning: It seems that frozen modules are being used, which may\n",
      "0.00s - make the debugger miss breakpoints. Please pass -Xfrozen_modules=off\n",
      "0.00s - to python to disable frozen modules.\n",
      "0.00s - Note: Debugging will proceed. Set PYDEVD_DISABLE_FILE_VALIDATION=1 to disable this validation.\n",
      "Executing: 100%|████████████████████████████████████████████████████████████████████| 130/130 [00:12<00:00, 10.20cell/s]\n"
     ]
    },
    {
     "name": "stdout",
     "output_type": "stream",
     "text": [
      "BY4741_FKS1-HS1_single_ortho_anidulafungin_variant_data_merge.tsv\n"
     ]
    },
    {
     "name": "stderr",
     "output_type": "stream",
     "text": [
      "Executing:   0%|                                                                              | 0/130 [00:00<?, ?cell/s]0.00s - Debugger warning: It seems that frozen modules are being used, which may\n",
      "0.00s - make the debugger miss breakpoints. Please pass -Xfrozen_modules=off\n",
      "0.00s - to python to disable frozen modules.\n",
      "0.00s - Note: Debugging will proceed. Set PYDEVD_DISABLE_FILE_VALIDATION=1 to disable this validation.\n",
      "Executing: 100%|████████████████████████████████████████████████████████████████████| 130/130 [00:11<00:00, 10.84cell/s]\n"
     ]
    },
    {
     "name": "stdout",
     "output_type": "stream",
     "text": [
      "R1158_FKS1-HS1_single_ortho_anidulafungin_variant_data_merge.tsv\n"
     ]
    },
    {
     "name": "stderr",
     "output_type": "stream",
     "text": [
      "Executing:   0%|                                                                              | 0/130 [00:00<?, ?cell/s]0.00s - Debugger warning: It seems that frozen modules are being used, which may\n",
      "0.00s - make the debugger miss breakpoints. Please pass -Xfrozen_modules=off\n",
      "0.00s - to python to disable frozen modules.\n",
      "0.00s - Note: Debugging will proceed. Set PYDEVD_DISABLE_FILE_VALIDATION=1 to disable this validation.\n",
      "Executing: 100%|████████████████████████████████████████████████████████████████████| 130/130 [00:13<00:00,  9.79cell/s]\n"
     ]
    },
    {
     "name": "stdout",
     "output_type": "stream",
     "text": [
      "R1158_FKS2-HS2_single_ortho_caspofungin_variant_data_merge.tsv\n"
     ]
    },
    {
     "name": "stderr",
     "output_type": "stream",
     "text": [
      "Executing:   0%|                                                                              | 0/130 [00:00<?, ?cell/s]0.00s - Debugger warning: It seems that frozen modules are being used, which may\n",
      "0.00s - make the debugger miss breakpoints. Please pass -Xfrozen_modules=off\n",
      "0.00s - to python to disable frozen modules.\n",
      "0.00s - Note: Debugging will proceed. Set PYDEVD_DISABLE_FILE_VALIDATION=1 to disable this validation.\n",
      "Executing: 100%|████████████████████████████████████████████████████████████████████| 130/130 [00:13<00:00,  9.81cell/s]\n"
     ]
    },
    {
     "name": "stdout",
     "output_type": "stream",
     "text": [
      "BY4741_FKS2-HS1_double_none_variant_data_merge.tsv\n"
     ]
    },
    {
     "name": "stderr",
     "output_type": "stream",
     "text": [
      "Executing:   0%|                                                                              | 0/130 [00:00<?, ?cell/s]0.00s - Debugger warning: It seems that frozen modules are being used, which may\n",
      "0.00s - make the debugger miss breakpoints. Please pass -Xfrozen_modules=off\n",
      "0.00s - to python to disable frozen modules.\n",
      "0.00s - Note: Debugging will proceed. Set PYDEVD_DISABLE_FILE_VALIDATION=1 to disable this validation.\n",
      "Executing: 100%|████████████████████████████████████████████████████████████████████| 130/130 [00:14<00:00,  9.14cell/s]\n"
     ]
    },
    {
     "name": "stdout",
     "output_type": "stream",
     "text": [
      "BY4741_FKS1-HS1_double_none_variant_data_merge.tsv\n"
     ]
    },
    {
     "name": "stderr",
     "output_type": "stream",
     "text": [
      "Executing:   0%|                                                                              | 0/130 [00:00<?, ?cell/s]0.00s - Debugger warning: It seems that frozen modules are being used, which may\n",
      "0.00s - make the debugger miss breakpoints. Please pass -Xfrozen_modules=off\n",
      "0.00s - to python to disable frozen modules.\n",
      "0.00s - Note: Debugging will proceed. Set PYDEVD_DISABLE_FILE_VALIDATION=1 to disable this validation.\n",
      "Executing: 100%|████████████████████████████████████████████████████████████████████| 130/130 [00:16<00:00,  7.75cell/s]\n"
     ]
    },
    {
     "name": "stdout",
     "output_type": "stream",
     "text": [
      "R1158_FKS2-HS1_single_ortho_caspofungin_variant_data_merge.tsv\n"
     ]
    },
    {
     "name": "stderr",
     "output_type": "stream",
     "text": [
      "Executing:   0%|                                                                              | 0/130 [00:00<?, ?cell/s]0.00s - Debugger warning: It seems that frozen modules are being used, which may\n",
      "0.00s - make the debugger miss breakpoints. Please pass -Xfrozen_modules=off\n",
      "0.00s - to python to disable frozen modules.\n",
      "0.00s - Note: Debugging will proceed. Set PYDEVD_DISABLE_FILE_VALIDATION=1 to disable this validation.\n",
      "Executing: 100%|████████████████████████████████████████████████████████████████████| 130/130 [00:14<00:00,  9.19cell/s]\n"
     ]
    },
    {
     "name": "stdout",
     "output_type": "stream",
     "text": [
      "BY4741_FKS1-HS2_single_ortho_micafungin_variant_data_merge.tsv\n"
     ]
    },
    {
     "name": "stderr",
     "output_type": "stream",
     "text": [
      "Executing:   0%|                                                                              | 0/130 [00:00<?, ?cell/s]0.00s - Debugger warning: It seems that frozen modules are being used, which may\n",
      "0.00s - make the debugger miss breakpoints. Please pass -Xfrozen_modules=off\n",
      "0.00s - to python to disable frozen modules.\n",
      "0.00s - Note: Debugging will proceed. Set PYDEVD_DISABLE_FILE_VALIDATION=1 to disable this validation.\n",
      "Executing: 100%|████████████████████████████████████████████████████████████████████| 130/130 [00:12<00:00, 10.41cell/s]\n"
     ]
    },
    {
     "name": "stdout",
     "output_type": "stream",
     "text": [
      "BY4741_FKS1-HS1_double_micafungin_variant_data_merge.tsv\n"
     ]
    },
    {
     "name": "stderr",
     "output_type": "stream",
     "text": [
      "Executing:   0%|                                                                              | 0/130 [00:00<?, ?cell/s]0.00s - Debugger warning: It seems that frozen modules are being used, which may\n",
      "0.00s - make the debugger miss breakpoints. Please pass -Xfrozen_modules=off\n",
      "0.00s - to python to disable frozen modules.\n",
      "0.00s - Note: Debugging will proceed. Set PYDEVD_DISABLE_FILE_VALIDATION=1 to disable this validation.\n",
      "Executing: 100%|████████████████████████████████████████████████████████████████████| 130/130 [00:16<00:00,  7.97cell/s]\n"
     ]
    },
    {
     "name": "stdout",
     "output_type": "stream",
     "text": [
      "R1158_FKS2-HS2_double_anidulafungin_variant_data_merge.tsv\n"
     ]
    },
    {
     "name": "stderr",
     "output_type": "stream",
     "text": [
      "Executing:   0%|                                                                              | 0/130 [00:00<?, ?cell/s]0.00s - Debugger warning: It seems that frozen modules are being used, which may\n",
      "0.00s - make the debugger miss breakpoints. Please pass -Xfrozen_modules=off\n",
      "0.00s - to python to disable frozen modules.\n",
      "0.00s - Note: Debugging will proceed. Set PYDEVD_DISABLE_FILE_VALIDATION=1 to disable this validation.\n",
      "Executing: 100%|████████████████████████████████████████████████████████████████████| 130/130 [00:10<00:00, 11.89cell/s]\n"
     ]
    },
    {
     "name": "stdout",
     "output_type": "stream",
     "text": [
      "BY4741_FKS1-HS2_single_ortho_anidulafungin_variant_data_merge.tsv\n"
     ]
    },
    {
     "name": "stderr",
     "output_type": "stream",
     "text": [
      "Executing:   0%|                                                                              | 0/130 [00:00<?, ?cell/s]0.00s - Debugger warning: It seems that frozen modules are being used, which may\n",
      "0.00s - make the debugger miss breakpoints. Please pass -Xfrozen_modules=off\n",
      "0.00s - to python to disable frozen modules.\n",
      "0.00s - Note: Debugging will proceed. Set PYDEVD_DISABLE_FILE_VALIDATION=1 to disable this validation.\n",
      "Executing: 100%|████████████████████████████████████████████████████████████████████| 130/130 [00:12<00:00, 10.19cell/s]\n"
     ]
    },
    {
     "name": "stdout",
     "output_type": "stream",
     "text": [
      "R1158_FKS1-HS2_single_ortho_dox_variant_data_merge.tsv\n"
     ]
    },
    {
     "name": "stderr",
     "output_type": "stream",
     "text": [
      "Executing:   0%|                                                                              | 0/130 [00:00<?, ?cell/s]0.00s - Debugger warning: It seems that frozen modules are being used, which may\n",
      "0.00s - make the debugger miss breakpoints. Please pass -Xfrozen_modules=off\n",
      "0.00s - to python to disable frozen modules.\n",
      "0.00s - Note: Debugging will proceed. Set PYDEVD_DISABLE_FILE_VALIDATION=1 to disable this validation.\n",
      "Executing: 100%|████████████████████████████████████████████████████████████████████| 130/130 [00:12<00:00, 10.21cell/s]\n"
     ]
    },
    {
     "name": "stdout",
     "output_type": "stream",
     "text": [
      "R1158_FKS1-HS1_single_ortho_none_variant_data_merge.tsv\n"
     ]
    },
    {
     "name": "stderr",
     "output_type": "stream",
     "text": [
      "Executing:   0%|                                                                              | 0/130 [00:00<?, ?cell/s]0.00s - Debugger warning: It seems that frozen modules are being used, which may\n",
      "0.00s - make the debugger miss breakpoints. Please pass -Xfrozen_modules=off\n",
      "0.00s - to python to disable frozen modules.\n",
      "0.00s - Note: Debugging will proceed. Set PYDEVD_DISABLE_FILE_VALIDATION=1 to disable this validation.\n",
      "Executing: 100%|████████████████████████████████████████████████████████████████████| 130/130 [00:12<00:00, 10.12cell/s]\n"
     ]
    },
    {
     "name": "stdout",
     "output_type": "stream",
     "text": [
      "R1158_FKS1-HS2_double_anidulafungin_variant_data_merge.tsv\n"
     ]
    },
    {
     "name": "stderr",
     "output_type": "stream",
     "text": [
      "Executing:   0%|                                                                              | 0/130 [00:00<?, ?cell/s]0.00s - Debugger warning: It seems that frozen modules are being used, which may\n",
      "0.00s - make the debugger miss breakpoints. Please pass -Xfrozen_modules=off\n",
      "0.00s - to python to disable frozen modules.\n",
      "0.00s - Note: Debugging will proceed. Set PYDEVD_DISABLE_FILE_VALIDATION=1 to disable this validation.\n",
      "Executing: 100%|████████████████████████████████████████████████████████████████████| 130/130 [00:12<00:00, 10.16cell/s]\n"
     ]
    },
    {
     "name": "stdout",
     "output_type": "stream",
     "text": [
      "R1158_FKS2-HS1_double_anidulafungin_variant_data_merge.tsv\n"
     ]
    },
    {
     "name": "stderr",
     "output_type": "stream",
     "text": [
      "Executing:   0%|                                                                              | 0/130 [00:00<?, ?cell/s]0.00s - Debugger warning: It seems that frozen modules are being used, which may\n",
      "0.00s - make the debugger miss breakpoints. Please pass -Xfrozen_modules=off\n",
      "0.00s - to python to disable frozen modules.\n",
      "0.00s - Note: Debugging will proceed. Set PYDEVD_DISABLE_FILE_VALIDATION=1 to disable this validation.\n",
      "Executing: 100%|████████████████████████████████████████████████████████████████████| 130/130 [00:13<00:00,  9.43cell/s]\n"
     ]
    },
    {
     "name": "stdout",
     "output_type": "stream",
     "text": [
      "R1158_FKS2-HS1_double_dox_variant_data_merge.tsv\n"
     ]
    },
    {
     "name": "stderr",
     "output_type": "stream",
     "text": [
      "Executing:   0%|                                                                              | 0/130 [00:00<?, ?cell/s]0.00s - Debugger warning: It seems that frozen modules are being used, which may\n",
      "0.00s - make the debugger miss breakpoints. Please pass -Xfrozen_modules=off\n",
      "0.00s - to python to disable frozen modules.\n",
      "0.00s - Note: Debugging will proceed. Set PYDEVD_DISABLE_FILE_VALIDATION=1 to disable this validation.\n",
      "Executing: 100%|████████████████████████████████████████████████████████████████████| 130/130 [00:13<00:00,  9.57cell/s]\n"
     ]
    },
    {
     "name": "stdout",
     "output_type": "stream",
     "text": [
      "R1158_FKS2-HS1_single_ortho_none_variant_data_merge.tsv\n"
     ]
    },
    {
     "name": "stderr",
     "output_type": "stream",
     "text": [
      "Executing:   0%|                                                                              | 0/130 [00:00<?, ?cell/s]0.00s - Debugger warning: It seems that frozen modules are being used, which may\n",
      "0.00s - make the debugger miss breakpoints. Please pass -Xfrozen_modules=off\n",
      "0.00s - to python to disable frozen modules.\n",
      "0.00s - Note: Debugging will proceed. Set PYDEVD_DISABLE_FILE_VALIDATION=1 to disable this validation.\n",
      "Executing: 100%|████████████████████████████████████████████████████████████████████| 130/130 [00:12<00:00, 10.21cell/s]\n"
     ]
    },
    {
     "name": "stdout",
     "output_type": "stream",
     "text": [
      "BY4741_FKS1-HS1_single_ortho_caspofungin_variant_data_merge.tsv\n"
     ]
    },
    {
     "name": "stderr",
     "output_type": "stream",
     "text": [
      "Executing:   0%|                                                                              | 0/130 [00:00<?, ?cell/s]0.00s - Debugger warning: It seems that frozen modules are being used, which may\n",
      "0.00s - make the debugger miss breakpoints. Please pass -Xfrozen_modules=off\n",
      "0.00s - to python to disable frozen modules.\n",
      "0.00s - Note: Debugging will proceed. Set PYDEVD_DISABLE_FILE_VALIDATION=1 to disable this validation.\n",
      "Executing: 100%|████████████████████████████████████████████████████████████████████| 130/130 [00:11<00:00, 10.86cell/s]\n"
     ]
    },
    {
     "name": "stdout",
     "output_type": "stream",
     "text": [
      "R1158_FKS2-HS2_double_caspofungin_variant_data_merge.tsv\n"
     ]
    },
    {
     "name": "stderr",
     "output_type": "stream",
     "text": [
      "Executing:   0%|                                                                              | 0/130 [00:00<?, ?cell/s]0.00s - Debugger warning: It seems that frozen modules are being used, which may\n",
      "0.00s - make the debugger miss breakpoints. Please pass -Xfrozen_modules=off\n",
      "0.00s - to python to disable frozen modules.\n",
      "0.00s - Note: Debugging will proceed. Set PYDEVD_DISABLE_FILE_VALIDATION=1 to disable this validation.\n",
      "Executing: 100%|████████████████████████████████████████████████████████████████████| 130/130 [00:13<00:00,  9.96cell/s]\n"
     ]
    },
    {
     "name": "stdout",
     "output_type": "stream",
     "text": [
      "R1158_FKS2-HS2_single_ortho_dox_variant_data_merge.tsv\n"
     ]
    },
    {
     "name": "stderr",
     "output_type": "stream",
     "text": [
      "Executing:   0%|                                                                              | 0/130 [00:00<?, ?cell/s]0.00s - Debugger warning: It seems that frozen modules are being used, which may\n",
      "0.00s - make the debugger miss breakpoints. Please pass -Xfrozen_modules=off\n",
      "0.00s - to python to disable frozen modules.\n",
      "0.00s - Note: Debugging will proceed. Set PYDEVD_DISABLE_FILE_VALIDATION=1 to disable this validation.\n",
      "Executing: 100%|████████████████████████████████████████████████████████████████████| 130/130 [00:12<00:00, 10.40cell/s]\n"
     ]
    },
    {
     "name": "stdout",
     "output_type": "stream",
     "text": [
      "BY4741_FKS1-HS2_double_anidulafungin_variant_data_merge.tsv\n"
     ]
    },
    {
     "name": "stderr",
     "output_type": "stream",
     "text": [
      "Executing:   0%|                                                                              | 0/130 [00:00<?, ?cell/s]0.00s - Debugger warning: It seems that frozen modules are being used, which may\n",
      "0.00s - make the debugger miss breakpoints. Please pass -Xfrozen_modules=off\n",
      "0.00s - to python to disable frozen modules.\n",
      "0.00s - Note: Debugging will proceed. Set PYDEVD_DISABLE_FILE_VALIDATION=1 to disable this validation.\n",
      "Executing: 100%|████████████████████████████████████████████████████████████████████| 130/130 [00:12<00:00, 10.67cell/s]\n"
     ]
    },
    {
     "name": "stdout",
     "output_type": "stream",
     "text": [
      "R1158_FKS1-HS1_single_ortho_caspofungin_variant_data_merge.tsv\n"
     ]
    },
    {
     "name": "stderr",
     "output_type": "stream",
     "text": [
      "Executing:   0%|                                                                              | 0/130 [00:00<?, ?cell/s]0.00s - Debugger warning: It seems that frozen modules are being used, which may\n",
      "0.00s - make the debugger miss breakpoints. Please pass -Xfrozen_modules=off\n",
      "0.00s - to python to disable frozen modules.\n",
      "0.00s - Note: Debugging will proceed. Set PYDEVD_DISABLE_FILE_VALIDATION=1 to disable this validation.\n",
      "Executing: 100%|████████████████████████████████████████████████████████████████████| 130/130 [00:13<00:00,  9.93cell/s]\n"
     ]
    },
    {
     "name": "stdout",
     "output_type": "stream",
     "text": [
      "BY4741_FKS1-HS2_double_micafungin_variant_data_merge.tsv\n"
     ]
    },
    {
     "name": "stderr",
     "output_type": "stream",
     "text": [
      "Executing:   0%|                                                                              | 0/130 [00:00<?, ?cell/s]0.00s - Debugger warning: It seems that frozen modules are being used, which may\n",
      "0.00s - make the debugger miss breakpoints. Please pass -Xfrozen_modules=off\n",
      "0.00s - to python to disable frozen modules.\n",
      "0.00s - Note: Debugging will proceed. Set PYDEVD_DISABLE_FILE_VALIDATION=1 to disable this validation.\n",
      "Executing: 100%|████████████████████████████████████████████████████████████████████| 130/130 [00:12<00:00, 10.43cell/s]\n"
     ]
    },
    {
     "name": "stdout",
     "output_type": "stream",
     "text": [
      "R1158_FKS1-HS1_double_none_variant_data_merge.tsv\n"
     ]
    },
    {
     "name": "stderr",
     "output_type": "stream",
     "text": [
      "Executing:   0%|                                                                              | 0/130 [00:00<?, ?cell/s]0.00s - Debugger warning: It seems that frozen modules are being used, which may\n",
      "0.00s - make the debugger miss breakpoints. Please pass -Xfrozen_modules=off\n",
      "0.00s - to python to disable frozen modules.\n",
      "0.00s - Note: Debugging will proceed. Set PYDEVD_DISABLE_FILE_VALIDATION=1 to disable this validation.\n",
      "Executing: 100%|████████████████████████████████████████████████████████████████████| 130/130 [00:14<00:00,  8.99cell/s]\n"
     ]
    },
    {
     "name": "stdout",
     "output_type": "stream",
     "text": [
      "R1158_FKS1-HS1_single_ortho_micafungin_variant_data_merge.tsv\n"
     ]
    },
    {
     "name": "stderr",
     "output_type": "stream",
     "text": [
      "Executing:   0%|                                                                              | 0/130 [00:00<?, ?cell/s]0.00s - Debugger warning: It seems that frozen modules are being used, which may\n",
      "0.00s - make the debugger miss breakpoints. Please pass -Xfrozen_modules=off\n",
      "0.00s - to python to disable frozen modules.\n",
      "0.00s - Note: Debugging will proceed. Set PYDEVD_DISABLE_FILE_VALIDATION=1 to disable this validation.\n",
      "Executing: 100%|████████████████████████████████████████████████████████████████████| 130/130 [00:13<00:00,  9.90cell/s]\n"
     ]
    },
    {
     "name": "stdout",
     "output_type": "stream",
     "text": [
      "BY4741_FKS2-HS2_single_ortho_none_variant_data_merge.tsv\n"
     ]
    },
    {
     "name": "stderr",
     "output_type": "stream",
     "text": [
      "Executing:   0%|                                                                              | 0/130 [00:00<?, ?cell/s]0.00s - Debugger warning: It seems that frozen modules are being used, which may\n",
      "0.00s - make the debugger miss breakpoints. Please pass -Xfrozen_modules=off\n",
      "0.00s - to python to disable frozen modules.\n",
      "0.00s - Note: Debugging will proceed. Set PYDEVD_DISABLE_FILE_VALIDATION=1 to disable this validation.\n",
      "Executing: 100%|████████████████████████████████████████████████████████████████████| 130/130 [00:12<00:00, 10.32cell/s]\n"
     ]
    },
    {
     "name": "stdout",
     "output_type": "stream",
     "text": [
      "R1158_FKS1-HS2_double_caspofungin_variant_data_merge.tsv\n"
     ]
    },
    {
     "name": "stderr",
     "output_type": "stream",
     "text": [
      "Executing:   0%|                                                                              | 0/130 [00:00<?, ?cell/s]0.00s - Debugger warning: It seems that frozen modules are being used, which may\n",
      "0.00s - make the debugger miss breakpoints. Please pass -Xfrozen_modules=off\n",
      "0.00s - to python to disable frozen modules.\n",
      "0.00s - Note: Debugging will proceed. Set PYDEVD_DISABLE_FILE_VALIDATION=1 to disable this validation.\n",
      "Executing: 100%|████████████████████████████████████████████████████████████████████| 130/130 [00:12<00:00, 10.34cell/s]\n"
     ]
    },
    {
     "name": "stdout",
     "output_type": "stream",
     "text": [
      "R1158_FKS1-HS1_double_dox_variant_data_merge.tsv\n"
     ]
    },
    {
     "name": "stderr",
     "output_type": "stream",
     "text": [
      "Executing:   0%|                                                                              | 0/130 [00:00<?, ?cell/s]0.00s - Debugger warning: It seems that frozen modules are being used, which may\n",
      "0.00s - make the debugger miss breakpoints. Please pass -Xfrozen_modules=off\n",
      "0.00s - to python to disable frozen modules.\n",
      "0.00s - Note: Debugging will proceed. Set PYDEVD_DISABLE_FILE_VALIDATION=1 to disable this validation.\n",
      "Executing: 100%|████████████████████████████████████████████████████████████████████| 130/130 [00:14<00:00,  9.06cell/s]\n"
     ]
    },
    {
     "name": "stdout",
     "output_type": "stream",
     "text": [
      "BY4741_FKS1-HS1_double_anidulafungin_variant_data_merge.tsv\n"
     ]
    },
    {
     "name": "stderr",
     "output_type": "stream",
     "text": [
      "Executing:   0%|                                                                              | 0/130 [00:00<?, ?cell/s]0.00s - Debugger warning: It seems that frozen modules are being used, which may\n",
      "0.00s - make the debugger miss breakpoints. Please pass -Xfrozen_modules=off\n",
      "0.00s - to python to disable frozen modules.\n",
      "0.00s - Note: Debugging will proceed. Set PYDEVD_DISABLE_FILE_VALIDATION=1 to disable this validation.\n",
      "Executing: 100%|████████████████████████████████████████████████████████████████████| 130/130 [00:16<00:00,  7.90cell/s]\n"
     ]
    },
    {
     "name": "stdout",
     "output_type": "stream",
     "text": [
      "R1158_FKS2-HS1_double_none_variant_data_merge.tsv\n"
     ]
    },
    {
     "name": "stderr",
     "output_type": "stream",
     "text": [
      "Executing:   0%|                                                                              | 0/130 [00:00<?, ?cell/s]0.00s - Debugger warning: It seems that frozen modules are being used, which may\n",
      "0.00s - make the debugger miss breakpoints. Please pass -Xfrozen_modules=off\n",
      "0.00s - to python to disable frozen modules.\n",
      "0.00s - Note: Debugging will proceed. Set PYDEVD_DISABLE_FILE_VALIDATION=1 to disable this validation.\n",
      "Executing: 100%|████████████████████████████████████████████████████████████████████| 130/130 [00:13<00:00,  9.40cell/s]\n"
     ]
    },
    {
     "name": "stdout",
     "output_type": "stream",
     "text": [
      "R1158_FKS2-HS1_double_micafungin_variant_data_merge.tsv\n"
     ]
    },
    {
     "name": "stderr",
     "output_type": "stream",
     "text": [
      "Executing:   0%|                                                                              | 0/130 [00:00<?, ?cell/s]0.00s - Debugger warning: It seems that frozen modules are being used, which may\n",
      "0.00s - make the debugger miss breakpoints. Please pass -Xfrozen_modules=off\n",
      "0.00s - to python to disable frozen modules.\n",
      "0.00s - Note: Debugging will proceed. Set PYDEVD_DISABLE_FILE_VALIDATION=1 to disable this validation.\n",
      "Executing: 100%|████████████████████████████████████████████████████████████████████| 130/130 [00:13<00:00,  9.44cell/s]\n"
     ]
    },
    {
     "name": "stdout",
     "output_type": "stream",
     "text": [
      "R1158_FKS1-HS2_double_micafungin_variant_data_merge.tsv\n"
     ]
    },
    {
     "name": "stderr",
     "output_type": "stream",
     "text": [
      "Executing:   0%|                                                                              | 0/130 [00:00<?, ?cell/s]0.00s - Debugger warning: It seems that frozen modules are being used, which may\n",
      "0.00s - make the debugger miss breakpoints. Please pass -Xfrozen_modules=off\n",
      "0.00s - to python to disable frozen modules.\n",
      "0.00s - Note: Debugging will proceed. Set PYDEVD_DISABLE_FILE_VALIDATION=1 to disable this validation.\n",
      "Executing: 100%|████████████████████████████████████████████████████████████████████| 130/130 [00:13<00:00,  9.99cell/s]\n"
     ]
    },
    {
     "name": "stdout",
     "output_type": "stream",
     "text": [
      "BY4741_FKS2-HS2_double_none_variant_data_merge.tsv\n"
     ]
    },
    {
     "name": "stderr",
     "output_type": "stream",
     "text": [
      "Executing:   0%|                                                                              | 0/130 [00:00<?, ?cell/s]0.00s - Debugger warning: It seems that frozen modules are being used, which may\n",
      "0.00s - make the debugger miss breakpoints. Please pass -Xfrozen_modules=off\n",
      "0.00s - to python to disable frozen modules.\n",
      "0.00s - Note: Debugging will proceed. Set PYDEVD_DISABLE_FILE_VALIDATION=1 to disable this validation.\n",
      "Executing: 100%|████████████████████████████████████████████████████████████████████| 130/130 [00:13<00:00,  9.56cell/s]\n"
     ]
    },
    {
     "name": "stdout",
     "output_type": "stream",
     "text": [
      "BY4741_FKS1-HS2_single_ortho_none_variant_data_merge.tsv\n"
     ]
    },
    {
     "name": "stderr",
     "output_type": "stream",
     "text": [
      "Executing:   0%|                                                                              | 0/130 [00:00<?, ?cell/s]0.00s - Debugger warning: It seems that frozen modules are being used, which may\n",
      "0.00s - make the debugger miss breakpoints. Please pass -Xfrozen_modules=off\n",
      "0.00s - to python to disable frozen modules.\n",
      "0.00s - Note: Debugging will proceed. Set PYDEVD_DISABLE_FILE_VALIDATION=1 to disable this validation.\n",
      "Executing: 100%|████████████████████████████████████████████████████████████████████| 130/130 [00:13<00:00,  9.98cell/s]\n"
     ]
    },
    {
     "name": "stdout",
     "output_type": "stream",
     "text": [
      "BY4741_FKS1-HS1_double_caspofungin_variant_data_merge.tsv\n"
     ]
    },
    {
     "name": "stderr",
     "output_type": "stream",
     "text": [
      "Executing:   0%|                                                                              | 0/130 [00:00<?, ?cell/s]0.00s - Debugger warning: It seems that frozen modules are being used, which may\n",
      "0.00s - make the debugger miss breakpoints. Please pass -Xfrozen_modules=off\n",
      "0.00s - to python to disable frozen modules.\n",
      "0.00s - Note: Debugging will proceed. Set PYDEVD_DISABLE_FILE_VALIDATION=1 to disable this validation.\n",
      "Executing: 100%|████████████████████████████████████████████████████████████████████| 130/130 [00:16<00:00,  7.70cell/s]\n"
     ]
    },
    {
     "name": "stdout",
     "output_type": "stream",
     "text": [
      "R1158_FKS1-HS2_single_ortho_anidulafungin_variant_data_merge.tsv\n"
     ]
    },
    {
     "name": "stderr",
     "output_type": "stream",
     "text": [
      "Executing:   0%|                                                                              | 0/130 [00:00<?, ?cell/s]0.00s - Debugger warning: It seems that frozen modules are being used, which may\n",
      "0.00s - make the debugger miss breakpoints. Please pass -Xfrozen_modules=off\n",
      "0.00s - to python to disable frozen modules.\n",
      "0.00s - Note: Debugging will proceed. Set PYDEVD_DISABLE_FILE_VALIDATION=1 to disable this validation.\n",
      "Executing: 100%|████████████████████████████████████████████████████████████████████| 130/130 [00:12<00:00, 10.17cell/s]\n"
     ]
    },
    {
     "name": "stdout",
     "output_type": "stream",
     "text": [
      "R1158_FKS1-HS2_single_ortho_none_variant_data_merge.tsv\n"
     ]
    },
    {
     "name": "stderr",
     "output_type": "stream",
     "text": [
      "Executing:   0%|                                                                              | 0/130 [00:00<?, ?cell/s]0.00s - Debugger warning: It seems that frozen modules are being used, which may\n",
      "0.00s - make the debugger miss breakpoints. Please pass -Xfrozen_modules=off\n",
      "0.00s - to python to disable frozen modules.\n",
      "0.00s - Note: Debugging will proceed. Set PYDEVD_DISABLE_FILE_VALIDATION=1 to disable this validation.\n",
      "Executing: 100%|████████████████████████████████████████████████████████████████████| 130/130 [00:13<00:00,  9.94cell/s]\n"
     ]
    },
    {
     "name": "stdout",
     "output_type": "stream",
     "text": [
      "R1158_FKS1-HS1_double_micafungin_variant_data_merge.tsv\n"
     ]
    },
    {
     "name": "stderr",
     "output_type": "stream",
     "text": [
      "Executing:   0%|                                                                              | 0/130 [00:00<?, ?cell/s]0.00s - Debugger warning: It seems that frozen modules are being used, which may\n",
      "0.00s - make the debugger miss breakpoints. Please pass -Xfrozen_modules=off\n",
      "0.00s - to python to disable frozen modules.\n",
      "0.00s - Note: Debugging will proceed. Set PYDEVD_DISABLE_FILE_VALIDATION=1 to disable this validation.\n",
      "Executing: 100%|████████████████████████████████████████████████████████████████████| 130/130 [00:14<00:00,  9.15cell/s]\n"
     ]
    },
    {
     "name": "stdout",
     "output_type": "stream",
     "text": [
      "BY4741_FKS1-HS1_single_ortho_micafungin_variant_data_merge.tsv\n"
     ]
    },
    {
     "name": "stderr",
     "output_type": "stream",
     "text": [
      "Executing:   0%|                                                                              | 0/130 [00:00<?, ?cell/s]0.00s - Debugger warning: It seems that frozen modules are being used, which may\n",
      "0.00s - make the debugger miss breakpoints. Please pass -Xfrozen_modules=off\n",
      "0.00s - to python to disable frozen modules.\n",
      "0.00s - Note: Debugging will proceed. Set PYDEVD_DISABLE_FILE_VALIDATION=1 to disable this validation.\n",
      "Executing: 100%|████████████████████████████████████████████████████████████████████| 130/130 [00:12<00:00, 10.55cell/s]\n"
     ]
    },
    {
     "name": "stdout",
     "output_type": "stream",
     "text": [
      "R1158_FKS1-HS1_double_anidulafungin_variant_data_merge.tsv\n"
     ]
    },
    {
     "name": "stderr",
     "output_type": "stream",
     "text": [
      "Executing:   0%|                                                                              | 0/130 [00:00<?, ?cell/s]0.00s - Debugger warning: It seems that frozen modules are being used, which may\n",
      "0.00s - make the debugger miss breakpoints. Please pass -Xfrozen_modules=off\n",
      "0.00s - to python to disable frozen modules.\n",
      "0.00s - Note: Debugging will proceed. Set PYDEVD_DISABLE_FILE_VALIDATION=1 to disable this validation.\n",
      "Executing: 100%|████████████████████████████████████████████████████████████████████| 130/130 [00:15<00:00,  8.54cell/s]\n"
     ]
    },
    {
     "data": {
      "text/html": [
       "<div>\n",
       "<style scoped>\n",
       "    .dataframe tbody tr th:only-of-type {\n",
       "        vertical-align: middle;\n",
       "    }\n",
       "\n",
       "    .dataframe tbody tr th {\n",
       "        vertical-align: top;\n",
       "    }\n",
       "\n",
       "    .dataframe thead th {\n",
       "        text-align: right;\n",
       "    }\n",
       "</style>\n",
       "<table border=\"1\" class=\"dataframe\">\n",
       "  <thead>\n",
       "    <tr style=\"text-align: right;\">\n",
       "      <th></th>\n",
       "      <th>seq_type</th>\n",
       "      <th>nt_seq</th>\n",
       "      <th>aa_pos</th>\n",
       "      <th>alt_codons</th>\n",
       "      <th>mutated_codon</th>\n",
       "      <th>combination</th>\n",
       "      <th>aa_seq</th>\n",
       "      <th>WT</th>\n",
       "      <th>STOP</th>\n",
       "      <th>STOP_readthrough</th>\n",
       "      <th>...</th>\n",
       "      <th>median_s</th>\n",
       "      <th>strain</th>\n",
       "      <th>locus</th>\n",
       "      <th>pool_type</th>\n",
       "      <th>compound</th>\n",
       "      <th>input3</th>\n",
       "      <th>input3_abundance</th>\n",
       "      <th>input3_log10</th>\n",
       "      <th>Log2FC_3</th>\n",
       "      <th>selcoeff_3</th>\n",
       "    </tr>\n",
       "  </thead>\n",
       "  <tbody>\n",
       "    <tr>\n",
       "      <th>0</th>\n",
       "      <td>double</td>\n",
       "      <td>ttttttgtgagacgttatacattg</td>\n",
       "      <td>0.0</td>\n",
       "      <td>ttt</td>\n",
       "      <td>1.0</td>\n",
       "      <td>(0, 1)</td>\n",
       "      <td>FFVRRYTL</td>\n",
       "      <td>NaN</td>\n",
       "      <td>False</td>\n",
       "      <td>False</td>\n",
       "      <td>...</td>\n",
       "      <td>0.254069</td>\n",
       "      <td>BY4741</td>\n",
       "      <td>FKS1-HS2</td>\n",
       "      <td>double</td>\n",
       "      <td>caspofungin</td>\n",
       "      <td>NaN</td>\n",
       "      <td>NaN</td>\n",
       "      <td>NaN</td>\n",
       "      <td>NaN</td>\n",
       "      <td>NaN</td>\n",
       "    </tr>\n",
       "    <tr>\n",
       "      <th>1</th>\n",
       "      <td>double</td>\n",
       "      <td>ttttttgtgagacgttatacattg</td>\n",
       "      <td>1.0</td>\n",
       "      <td>ttt</td>\n",
       "      <td>2.0</td>\n",
       "      <td>(0, 1)</td>\n",
       "      <td>FFVRRYTL</td>\n",
       "      <td>NaN</td>\n",
       "      <td>False</td>\n",
       "      <td>False</td>\n",
       "      <td>...</td>\n",
       "      <td>0.254069</td>\n",
       "      <td>BY4741</td>\n",
       "      <td>FKS1-HS2</td>\n",
       "      <td>double</td>\n",
       "      <td>caspofungin</td>\n",
       "      <td>NaN</td>\n",
       "      <td>NaN</td>\n",
       "      <td>NaN</td>\n",
       "      <td>NaN</td>\n",
       "      <td>NaN</td>\n",
       "    </tr>\n",
       "    <tr>\n",
       "      <th>2</th>\n",
       "      <td>double</td>\n",
       "      <td>tttattgtgagacgttatacattg</td>\n",
       "      <td>0.0</td>\n",
       "      <td>ttt</td>\n",
       "      <td>1.0</td>\n",
       "      <td>(0, 1)</td>\n",
       "      <td>FIVRRYTL</td>\n",
       "      <td>NaN</td>\n",
       "      <td>False</td>\n",
       "      <td>False</td>\n",
       "      <td>...</td>\n",
       "      <td>1.762177</td>\n",
       "      <td>BY4741</td>\n",
       "      <td>FKS1-HS2</td>\n",
       "      <td>double</td>\n",
       "      <td>caspofungin</td>\n",
       "      <td>NaN</td>\n",
       "      <td>NaN</td>\n",
       "      <td>NaN</td>\n",
       "      <td>NaN</td>\n",
       "      <td>NaN</td>\n",
       "    </tr>\n",
       "    <tr>\n",
       "      <th>3</th>\n",
       "      <td>double</td>\n",
       "      <td>tttattgtgagacgttatacattg</td>\n",
       "      <td>1.0</td>\n",
       "      <td>att</td>\n",
       "      <td>2.0</td>\n",
       "      <td>(0, 1)</td>\n",
       "      <td>FIVRRYTL</td>\n",
       "      <td>NaN</td>\n",
       "      <td>False</td>\n",
       "      <td>False</td>\n",
       "      <td>...</td>\n",
       "      <td>1.762177</td>\n",
       "      <td>BY4741</td>\n",
       "      <td>FKS1-HS2</td>\n",
       "      <td>double</td>\n",
       "      <td>caspofungin</td>\n",
       "      <td>NaN</td>\n",
       "      <td>NaN</td>\n",
       "      <td>NaN</td>\n",
       "      <td>NaN</td>\n",
       "      <td>NaN</td>\n",
       "    </tr>\n",
       "    <tr>\n",
       "      <th>4</th>\n",
       "      <td>double</td>\n",
       "      <td>tttatggtgagacgttatacattg</td>\n",
       "      <td>0.0</td>\n",
       "      <td>ttt</td>\n",
       "      <td>1.0</td>\n",
       "      <td>(0, 1)</td>\n",
       "      <td>FMVRRYTL</td>\n",
       "      <td>NaN</td>\n",
       "      <td>False</td>\n",
       "      <td>False</td>\n",
       "      <td>...</td>\n",
       "      <td>-0.971938</td>\n",
       "      <td>BY4741</td>\n",
       "      <td>FKS1-HS2</td>\n",
       "      <td>double</td>\n",
       "      <td>caspofungin</td>\n",
       "      <td>NaN</td>\n",
       "      <td>NaN</td>\n",
       "      <td>NaN</td>\n",
       "      <td>NaN</td>\n",
       "      <td>NaN</td>\n",
       "    </tr>\n",
       "    <tr>\n",
       "      <th>...</th>\n",
       "      <td>...</td>\n",
       "      <td>...</td>\n",
       "      <td>...</td>\n",
       "      <td>...</td>\n",
       "      <td>...</td>\n",
       "      <td>...</td>\n",
       "      <td>...</td>\n",
       "      <td>...</td>\n",
       "      <td>...</td>\n",
       "      <td>...</td>\n",
       "      <td>...</td>\n",
       "      <td>...</td>\n",
       "      <td>...</td>\n",
       "      <td>...</td>\n",
       "      <td>...</td>\n",
       "      <td>...</td>\n",
       "      <td>...</td>\n",
       "      <td>...</td>\n",
       "      <td>...</td>\n",
       "      <td>...</td>\n",
       "      <td>...</td>\n",
       "    </tr>\n",
       "    <tr>\n",
       "      <th>261010</th>\n",
       "      <td>WT</td>\n",
       "      <td>tttttagttttatctttgagagatcca</td>\n",
       "      <td>4.0</td>\n",
       "      <td>tct</td>\n",
       "      <td>NaN</td>\n",
       "      <td>NaN</td>\n",
       "      <td>FLVLSLRDP</td>\n",
       "      <td>True</td>\n",
       "      <td>NaN</td>\n",
       "      <td>NaN</td>\n",
       "      <td>...</td>\n",
       "      <td>0.737997</td>\n",
       "      <td>R1158</td>\n",
       "      <td>FKS1-HS1</td>\n",
       "      <td>double</td>\n",
       "      <td>anidulafungin</td>\n",
       "      <td>NaN</td>\n",
       "      <td>0.000035</td>\n",
       "      <td>NaN</td>\n",
       "      <td>0.174401</td>\n",
       "      <td>0.51728</td>\n",
       "    </tr>\n",
       "    <tr>\n",
       "      <th>261011</th>\n",
       "      <td>WT</td>\n",
       "      <td>tttttagttttatctttgagagatcca</td>\n",
       "      <td>5.0</td>\n",
       "      <td>ttg</td>\n",
       "      <td>NaN</td>\n",
       "      <td>NaN</td>\n",
       "      <td>FLVLSLRDP</td>\n",
       "      <td>True</td>\n",
       "      <td>NaN</td>\n",
       "      <td>NaN</td>\n",
       "      <td>...</td>\n",
       "      <td>0.737997</td>\n",
       "      <td>R1158</td>\n",
       "      <td>FKS1-HS1</td>\n",
       "      <td>double</td>\n",
       "      <td>anidulafungin</td>\n",
       "      <td>NaN</td>\n",
       "      <td>0.000035</td>\n",
       "      <td>NaN</td>\n",
       "      <td>0.174401</td>\n",
       "      <td>0.51728</td>\n",
       "    </tr>\n",
       "    <tr>\n",
       "      <th>261012</th>\n",
       "      <td>WT</td>\n",
       "      <td>tttttagttttatctttgagagatcca</td>\n",
       "      <td>6.0</td>\n",
       "      <td>aga</td>\n",
       "      <td>NaN</td>\n",
       "      <td>NaN</td>\n",
       "      <td>FLVLSLRDP</td>\n",
       "      <td>True</td>\n",
       "      <td>NaN</td>\n",
       "      <td>NaN</td>\n",
       "      <td>...</td>\n",
       "      <td>0.737997</td>\n",
       "      <td>R1158</td>\n",
       "      <td>FKS1-HS1</td>\n",
       "      <td>double</td>\n",
       "      <td>anidulafungin</td>\n",
       "      <td>NaN</td>\n",
       "      <td>0.000035</td>\n",
       "      <td>NaN</td>\n",
       "      <td>0.174401</td>\n",
       "      <td>0.51728</td>\n",
       "    </tr>\n",
       "    <tr>\n",
       "      <th>261013</th>\n",
       "      <td>WT</td>\n",
       "      <td>tttttagttttatctttgagagatcca</td>\n",
       "      <td>7.0</td>\n",
       "      <td>gat</td>\n",
       "      <td>NaN</td>\n",
       "      <td>NaN</td>\n",
       "      <td>FLVLSLRDP</td>\n",
       "      <td>True</td>\n",
       "      <td>NaN</td>\n",
       "      <td>NaN</td>\n",
       "      <td>...</td>\n",
       "      <td>0.737997</td>\n",
       "      <td>R1158</td>\n",
       "      <td>FKS1-HS1</td>\n",
       "      <td>double</td>\n",
       "      <td>anidulafungin</td>\n",
       "      <td>NaN</td>\n",
       "      <td>0.000035</td>\n",
       "      <td>NaN</td>\n",
       "      <td>0.174401</td>\n",
       "      <td>0.51728</td>\n",
       "    </tr>\n",
       "    <tr>\n",
       "      <th>261014</th>\n",
       "      <td>WT</td>\n",
       "      <td>tttttagttttatctttgagagatcca</td>\n",
       "      <td>8.0</td>\n",
       "      <td>cca</td>\n",
       "      <td>NaN</td>\n",
       "      <td>NaN</td>\n",
       "      <td>FLVLSLRDP</td>\n",
       "      <td>True</td>\n",
       "      <td>NaN</td>\n",
       "      <td>NaN</td>\n",
       "      <td>...</td>\n",
       "      <td>0.737997</td>\n",
       "      <td>R1158</td>\n",
       "      <td>FKS1-HS1</td>\n",
       "      <td>double</td>\n",
       "      <td>anidulafungin</td>\n",
       "      <td>NaN</td>\n",
       "      <td>0.000035</td>\n",
       "      <td>NaN</td>\n",
       "      <td>0.174401</td>\n",
       "      <td>0.51728</td>\n",
       "    </tr>\n",
       "  </tbody>\n",
       "</table>\n",
       "<p>261015 rows × 52 columns</p>\n",
       "</div>"
      ],
      "text/plain": [
       "       seq_type                       nt_seq  aa_pos alt_codons  \\\n",
       "0        double     ttttttgtgagacgttatacattg     0.0        ttt   \n",
       "1        double     ttttttgtgagacgttatacattg     1.0        ttt   \n",
       "2        double     tttattgtgagacgttatacattg     0.0        ttt   \n",
       "3        double     tttattgtgagacgttatacattg     1.0        att   \n",
       "4        double     tttatggtgagacgttatacattg     0.0        ttt   \n",
       "...         ...                          ...     ...        ...   \n",
       "261010       WT  tttttagttttatctttgagagatcca     4.0        tct   \n",
       "261011       WT  tttttagttttatctttgagagatcca     5.0        ttg   \n",
       "261012       WT  tttttagttttatctttgagagatcca     6.0        aga   \n",
       "261013       WT  tttttagttttatctttgagagatcca     7.0        gat   \n",
       "261014       WT  tttttagttttatctttgagagatcca     8.0        cca   \n",
       "\n",
       "        mutated_codon combination     aa_seq    WT   STOP STOP_readthrough  \\\n",
       "0                 1.0      (0, 1)   FFVRRYTL   NaN  False            False   \n",
       "1                 2.0      (0, 1)   FFVRRYTL   NaN  False            False   \n",
       "2                 1.0      (0, 1)   FIVRRYTL   NaN  False            False   \n",
       "3                 2.0      (0, 1)   FIVRRYTL   NaN  False            False   \n",
       "4                 1.0      (0, 1)   FMVRRYTL   NaN  False            False   \n",
       "...               ...         ...        ...   ...    ...              ...   \n",
       "261010            NaN         NaN  FLVLSLRDP  True    NaN              NaN   \n",
       "261011            NaN         NaN  FLVLSLRDP  True    NaN              NaN   \n",
       "261012            NaN         NaN  FLVLSLRDP  True    NaN              NaN   \n",
       "261013            NaN         NaN  FLVLSLRDP  True    NaN              NaN   \n",
       "261014            NaN         NaN  FLVLSLRDP  True    NaN              NaN   \n",
       "\n",
       "        ...  median_s  strain     locus  pool_type       compound  input3  \\\n",
       "0       ...  0.254069  BY4741  FKS1-HS2     double    caspofungin     NaN   \n",
       "1       ...  0.254069  BY4741  FKS1-HS2     double    caspofungin     NaN   \n",
       "2       ...  1.762177  BY4741  FKS1-HS2     double    caspofungin     NaN   \n",
       "3       ...  1.762177  BY4741  FKS1-HS2     double    caspofungin     NaN   \n",
       "4       ... -0.971938  BY4741  FKS1-HS2     double    caspofungin     NaN   \n",
       "...     ...       ...     ...       ...        ...            ...     ...   \n",
       "261010  ...  0.737997   R1158  FKS1-HS1     double  anidulafungin     NaN   \n",
       "261011  ...  0.737997   R1158  FKS1-HS1     double  anidulafungin     NaN   \n",
       "261012  ...  0.737997   R1158  FKS1-HS1     double  anidulafungin     NaN   \n",
       "261013  ...  0.737997   R1158  FKS1-HS1     double  anidulafungin     NaN   \n",
       "261014  ...  0.737997   R1158  FKS1-HS1     double  anidulafungin     NaN   \n",
       "\n",
       "        input3_abundance  input3_log10  Log2FC_3 selcoeff_3  \n",
       "0                    NaN           NaN       NaN        NaN  \n",
       "1                    NaN           NaN       NaN        NaN  \n",
       "2                    NaN           NaN       NaN        NaN  \n",
       "3                    NaN           NaN       NaN        NaN  \n",
       "4                    NaN           NaN       NaN        NaN  \n",
       "...                  ...           ...       ...        ...  \n",
       "261010          0.000035           NaN  0.174401    0.51728  \n",
       "261011          0.000035           NaN  0.174401    0.51728  \n",
       "261012          0.000035           NaN  0.174401    0.51728  \n",
       "261013          0.000035           NaN  0.174401    0.51728  \n",
       "261014          0.000035           NaN  0.174401    0.51728  \n",
       "\n",
       "[261015 rows x 52 columns]"
      ]
     },
     "execution_count": 2,
     "metadata": {},
     "output_type": "execute_result"
    }
   ],
   "source": [
    "list_df = []\n",
    "\n",
    "for f in glob.glob('dimsum_output/variant_data/*variant_data_merge.tsv'):\n",
    "    fname = os.path.basename(f)\n",
    "    csetname = '_'.join(fname.split('_')[:-3])\n",
    "    \n",
    "    # Create output folder if it does not already exists\n",
    "    if not os.path.exists(f'processed_data/{csetname}'):\n",
    "        os.makedirs(f'processed_data/{csetname}')\n",
    "    \n",
    "    # Display file being processed\n",
    "    print(fname)\n",
    "    \n",
    "    # Run parameterized notebook\n",
    "    nb_output = pm.execute_notebook('template.ipynb',\n",
    "                                    f'processed_data/{csetname}/run.ipynb',\n",
    "                                    parameters = {'fname': fname,\n",
    "                                                  'min_input_readcount_high': 10,\n",
    "                                                  'min_input_readcount_mid': 3\n",
    "                                                 }\n",
    "                                   )\n",
    "    \n",
    "    # Get final dataframe containing selection coefficients\n",
    "    df = pd.read_csv(f'processed_data/{csetname}/selcoeff_all_libraries.csv', index_col=0)\n",
    "    \n",
    "    # Add info to dataframe\n",
    "    strain, locus, pool_type, compound = [fname.split('_')[:-3][i] for i in (0,1,2,-1)]\n",
    "    df['strain'] = strain\n",
    "    df['locus'] = locus\n",
    "    df['pool_type'] = pool_type\n",
    "    df['compound'] = compound\n",
    "    \n",
    "    # Drop single mutants from libraries of double mutants (too depleted)\n",
    "    # Important: WT is kept for both pool types (single/ortho and double)\n",
    "    if pool_type == 'double':\n",
    "        df.drop(df[df.seq_type == 'single'].index, inplace=True)\n",
    "        df.reset_index(drop=True, inplace=True)\n",
    "    \n",
    "    # Add dataframe to list\n",
    "    list_df.append(df)\n",
    "\n",
    "master = pd.concat(list_df, ignore_index=True)\n",
    "\n",
    "# Setting Hamming distances for WT to 0\n",
    "WTNham = master.loc[master.seq_type=='WT', ['Nham_nt','Nham_aa','Nmut_codons']]\n",
    "master.loc[master.seq_type=='WT', ['Nham_nt','Nham_aa','Nmut_codons']] = WTNham.fillna(0)\n",
    "master"
   ]
  },
  {
   "cell_type": "code",
   "execution_count": 4,
   "id": "442aaa45-d149-49a7-a591-afde1003bd43",
   "metadata": {
    "tags": []
   },
   "outputs": [],
   "source": [
    "# Export master dataframe\n",
    "master[['seq_type','nt_seq','aa_pos','alt_codons','mutated_codon','combination','aa_seq','Nham_nt','Nham_aa','Nmut_codons',\n",
    "        'confidence_score','selcoeff_1','selcoeff_2','selcoeff_3','median_s','alt_aa', 'mutation_type',\n",
    "        'strain','locus','pool_type','compound']\n",
    "      ].to_csv(f'aggregated_data/master.csv')"
   ]
  },
  {
   "cell_type": "code",
   "execution_count": null,
   "id": "a54854fe-b3d4-465e-939b-cc04cb66cb21",
   "metadata": {},
   "outputs": [],
   "source": []
  }
 ],
 "metadata": {
  "kernelspec": {
   "display_name": "dms-env",
   "language": "python",
   "name": "dms-env"
  },
  "language_info": {
   "codemirror_mode": {
    "name": "ipython",
    "version": 3
   },
   "file_extension": ".py",
   "mimetype": "text/x-python",
   "name": "python",
   "nbconvert_exporter": "python",
   "pygments_lexer": "ipython3",
   "version": "3.11.6"
  }
 },
 "nbformat": 4,
 "nbformat_minor": 5
}
